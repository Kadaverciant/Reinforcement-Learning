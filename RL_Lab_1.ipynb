{
  "cells": [
    {
      "cell_type": "markdown",
      "metadata": {
        "id": "FfzNDJVG0jLy"
      },
      "source": [
        "# Multi-armed bandit"
      ]
    },
    {
      "cell_type": "code",
      "execution_count": 773,
      "metadata": {
        "id": "pRbqHhrl2cjS"
      },
      "outputs": [],
      "source": [
        "import matplotlib.pyplot as plt\n",
        "import seaborn as sns\n",
        "import numpy as np\n",
        "import scipy.stats as stats\n",
        "\n",
        "sns.set_style(\"whitegrid\")"
      ]
    },
    {
      "cell_type": "code",
      "execution_count": 774,
      "metadata": {
        "id": "g1RovfX-0ndh"
      },
      "outputs": [],
      "source": [
        "class UniformMultiArmedBandit:\n",
        "\n",
        "    class Arm:\n",
        "\n",
        "        def __init__(self, cost, distribution):\n",
        "            self.cost = cost\n",
        "            self.distribution = distribution\n",
        "\n",
        "        def trigger(self):\n",
        "            return self.distribution.rvs(1)[0] - self.cost\n",
        "\n",
        "    def __init__(self, n_arms, costs = None, distributions = None):\n",
        "\n",
        "        if not (distributions is None):\n",
        "            assert len(distributions) == n_arms, \"Distributions size should be equal to n_arms\"\n",
        "        else: \n",
        "            a_list = np.random.randint(1, 5, n_arms)\n",
        "            b_list = np.random.randint(6, 10, n_arms)\n",
        "            distributions = [stats.randint(a, b) for a, b in zip(a_list, b_list)]\n",
        "        \n",
        "        if not (costs is None):\n",
        "            assert len(costs) == n_arms, \"Costs size should be equal to n_arms\"\n",
        "        else:\n",
        "            costs = np.random.randint(3, 8, n_arms)\n",
        "\n",
        "        self.n_arms = n_arms\n",
        "\n",
        "        self.arms = []\n",
        "        for i in range(n_arms):\n",
        "            new_arm = self.Arm(costs[i], distributions[i])\n",
        "            self.arms.append(new_arm)\n",
        "        \n",
        "    def trigger(self, idx):\n",
        "        return self.arms[idx].trigger()"
      ]
    },
    {
      "cell_type": "markdown",
      "metadata": {
        "id": "QdlKTvZXXlZF"
      },
      "source": [
        "## Single Arm"
      ]
    },
    {
      "cell_type": "code",
      "execution_count": 775,
      "metadata": {
        "id": "Oqo-i3wQ4L8i"
      },
      "outputs": [],
      "source": [
        "cost = 3\n",
        "distribution = stats.randint(1, 7)\n",
        "\n",
        "bandit = UniformMultiArmedBandit(1, [cost], [distribution])"
      ]
    },
    {
      "cell_type": "code",
      "execution_count": 776,
      "metadata": {
        "colab": {
          "base_uri": "https://localhost:8080/"
        },
        "id": "hN1H7gwNu4lH",
        "outputId": "f63a8305-1b86-48a4-c1ac-a300bd2c0f9c"
      },
      "outputs": [
        {
          "name": "stdout",
          "output_type": "stream",
          "text": [
            "0.5\n"
          ]
        }
      ],
      "source": [
        "real_exp = distribution.mean() - cost\n",
        "print(real_exp)"
      ]
    },
    {
      "cell_type": "code",
      "execution_count": 777,
      "metadata": {
        "id": "OCwikBOavSvo"
      },
      "outputs": [],
      "source": [
        "N = 1000\n",
        "records = []\n",
        "means = []\n",
        "\n",
        "for i in range(N):\n",
        "    records.append(bandit.trigger(0))\n",
        "    means.append(np.mean(records))"
      ]
    },
    {
      "cell_type": "code",
      "execution_count": 778,
      "metadata": {
        "colab": {
          "base_uri": "https://localhost:8080/",
          "height": 225
        },
        "id": "iY5S95Esvr9v",
        "outputId": "ef6cf8c1-6d60-43eb-e605-84396f50255c"
      },
      "outputs": [
        {
          "data": {
            "image/png": "[encoded data removed]",
            "text/plain": [
              "<Figure size 1000x300 with 1 Axes>"
            ]
          },
          "metadata": {},
          "output_type": "display_data"
        }
      ],
      "source": [
        "plt.figure(figsize = (10, 3))#, dpi = 300)\n",
        "plt.plot(np.arange(N), [real_exp] * N)\n",
        "plt.plot(np.arange(N), means)\n",
        "plt.xlabel(\"Timestamp\")\n",
        "plt.ylabel(\"Value\")\n",
        "plt.legend(['Real', 'Estimated'])\n",
        "plt.show()"
      ]
    },
    {
      "cell_type": "markdown",
      "metadata": {
        "id": "VwqdXGULXn3Q"
      },
      "source": [
        "## Multiple Arms"
      ]
    },
    {
      "cell_type": "markdown",
      "metadata": {
        "id": "MUYzs4Uvzmmo"
      },
      "source": [
        "In the beginning let us sample by one value for all the arms."
      ]
    },
    {
      "cell_type": "markdown",
      "metadata": {
        "id": "AJrywZEbYTaI"
      },
      "source": [
        "### Greedy"
      ]
    },
    {
      "cell_type": "code",
      "execution_count": 779,
      "metadata": {
        "id": "3SIAvcSczl-_"
      },
      "outputs": [],
      "source": [
        "n_arms = 4\n",
        "bandit = UniformMultiArmedBandit(n_arms)"
      ]
    },
    {
      "cell_type": "code",
      "execution_count": 780,
      "metadata": {
        "id": "A8lKIm1B1SUv"
      },
      "outputs": [],
      "source": [
        "rewards = [[bandit.trigger(i)] for i in range(n_arms)]"
      ]
    },
    {
      "cell_type": "code",
      "execution_count": 781,
      "metadata": {
        "colab": {
          "base_uri": "https://localhost:8080/"
        },
        "id": "xzYH3YoD33Un",
        "outputId": "6627284e-88dc-411e-f10c-8b73e0cff4cd"
      },
      "outputs": [
        {
          "data": {
            "text/plain": [
              "[[2], [2], [-1], [-1]]"
            ]
          },
          "execution_count": 781,
          "metadata": {},
          "output_type": "execute_result"
        }
      ],
      "source": [
        "rewards"
      ]
    },
    {
      "cell_type": "code",
      "execution_count": 782,
      "metadata": {
        "id": "KyOa1_uG1gdp"
      },
      "outputs": [],
      "source": [
        "def greedy_policy(rewards):\n",
        "    means = []\n",
        "    # mean for each action\n",
        "    for rew_list in rewards:\n",
        "        means.append(np.mean(rew_list))\n",
        "    \n",
        "    return np.argmax(means)"
      ]
    },
    {
      "cell_type": "code",
      "execution_count": 783,
      "metadata": {
        "id": "CLm_M-LV1-xm"
      },
      "outputs": [],
      "source": [
        "# mean reward for each arm\n",
        "actual_means = [arm.distribution.mean() - arm.cost for arm in bandit.arms]\n",
        "# max mean reward\n",
        "real_max_exp = max(actual_means)\n",
        "\n",
        "estimated_mean_policy = []\n",
        "real_mean_policy = []\n",
        "\n",
        "N = 1000\n",
        "\n",
        "for i in range(N):\n",
        "    # choosing an action\n",
        "    action = greedy_policy(rewards)\n",
        "\n",
        "    # recording the results\n",
        "    estimated_mean_policy.append(np.mean(rewards[action]))\n",
        "    rewards[action].append(bandit.trigger(action))\n",
        "    real_mean_policy.append(actual_means[action])"
      ]
    },
    {
      "cell_type": "code",
      "execution_count": 784,
      "metadata": {
        "colab": {
          "base_uri": "https://localhost:8080/",
          "height": 225
        },
        "id": "0TNMXvIm4Prw",
        "outputId": "01522e04-9af6-4fa8-f5d0-5641baae7121"
      },
      "outputs": [
        {
          "data": {
            "image/png": "[encoded data removed]",
            "text/plain": [
              "<Figure size 1000x300 with 1 Axes>"
            ]
          },
          "metadata": {},
          "output_type": "display_data"
        }
      ],
      "source": [
        "plt.figure(figsize = (10, 3))#, dpi = 300)\n",
        "plt.plot(np.arange(N), [real_max_exp] * N)\n",
        "plt.plot(np.arange(N), estimated_mean_policy)\n",
        "plt.plot(np.arange(N), real_mean_policy)\n",
        "plt.xlabel(\"Timestamp\")\n",
        "plt.ylabel(\"Value\")\n",
        "plt.legend(['Real max mean', 'Estimated mean by policy', 'Real mean by policy'])\n",
        "plt.show()"
      ]
    },
    {
      "cell_type": "markdown",
      "metadata": {
        "id": "1Jelim5dXqIx"
      },
      "source": [
        "### $\\epsilon$-greedy"
      ]
    },
    {
      "cell_type": "code",
      "execution_count": 785,
      "metadata": {
        "id": "wk9Teles6Di4"
      },
      "outputs": [],
      "source": [
        "rewards = [[bandit.trigger(i)] for i in range(n_arms)]"
      ]
    },
    {
      "cell_type": "code",
      "execution_count": 786,
      "metadata": {
        "id": "wBbHPTTp6Off"
      },
      "outputs": [],
      "source": [
        "def epsilon_greedy_policy(rewards, n_arms, epsilon):\n",
        "    means = []\n",
        "    # mean for each action\n",
        "    for rew_list in rewards:\n",
        "        means.append(np.mean(rew_list))\n",
        "    main_action = np.argmax(means)\n",
        "    \n",
        "    probas = [epsilon / n_arms] * n_arms\n",
        "    probas[main_action] += (1 - epsilon) \n",
        "    return np.array(probas)"
      ]
    },
    {
      "cell_type": "code",
      "execution_count": 787,
      "metadata": {
        "id": "SGcBICVw7gPH"
      },
      "outputs": [],
      "source": [
        "# mean reward for each arm\n",
        "actual_means = [arm.distribution.mean() - arm.cost for arm in bandit.arms]\n",
        "# max mean reward\n",
        "real_max_exp = max(actual_means)\n",
        "\n",
        "estimated_mean_policy = []\n",
        "real_mean_policy = []\n",
        "\n",
        "N = 1000\n",
        "\n",
        "for i in range(N):\n",
        "    # choosing an action\n",
        "    action_probas = epsilon_greedy_policy(rewards, n_arms, epsilon = 0.1)\n",
        "    action = np.random.choice(n_arms, size = 1, p = action_probas)[0]\n",
        "\n",
        "    # recording the results\n",
        "    estimated_mean_policy.append(np.mean(rewards[action]))\n",
        "    rewards[action].append(bandit.trigger(action))\n",
        "    real_mean_policy.append((actual_means * action_probas).sum())"
      ]
    },
    {
      "cell_type": "code",
      "execution_count": 788,
      "metadata": {
        "colab": {
          "base_uri": "https://localhost:8080/",
          "height": 225
        },
        "id": "uOP0TGne9J9Y",
        "outputId": "d31dd4fd-6fb1-4612-ea67-a2074331a38c"
      },
      "outputs": [
        {
          "data": {
            "image/png": "[encoded data removed]",
            "text/plain": [
              "<Figure size 1000x300 with 1 Axes>"
            ]
          },
          "metadata": {},
          "output_type": "display_data"
        }
      ],
      "source": [
        "plt.figure(figsize = (10, 3))#, dpi = 300)\n",
        "plt.plot(np.arange(N), [real_max_exp] * N)\n",
        "plt.plot(np.arange(N), estimated_mean_policy)\n",
        "plt.plot(np.arange(N), real_mean_policy)\n",
        "plt.xlabel(\"Timestamp\")\n",
        "plt.ylabel(\"Value\")\n",
        "plt.legend(['Real max mean', 'Estimated mean by policy', 'Real mean by policy'])\n",
        "plt.show()"
      ]
    },
    {
      "cell_type": "markdown",
      "metadata": {
        "id": "QVC3qbv39vLa"
      },
      "source": [
        "Decrease an epsilon."
      ]
    },
    {
      "cell_type": "code",
      "execution_count": 789,
      "metadata": {
        "id": "b6HrJ9KL-Bfn"
      },
      "outputs": [],
      "source": [
        "rewards = [[bandit.trigger(i)] for i in range(n_arms)]"
      ]
    },
    {
      "cell_type": "code",
      "execution_count": 790,
      "metadata": {
        "id": "CbHIQAw99xIg"
      },
      "outputs": [],
      "source": [
        "# mean reward for each arm\n",
        "actual_means = [arm.distribution.mean() - arm.cost for arm in bandit.arms]\n",
        "# max mean reward\n",
        "real_max_exp = max(actual_means)\n",
        "\n",
        "estimated_mean_policy = []\n",
        "real_mean_policy = []\n",
        "\n",
        "N = 100\n",
        "\n",
        "for i in range(N):\n",
        "    # choosing an action\n",
        "    action_probas = epsilon_greedy_policy(rewards, n_arms, epsilon = 1/(i+1))\n",
        "    action = np.random.choice(n_arms, size = 1, p = action_probas)[0]\n",
        "\n",
        "    # recording the results\n",
        "    estimated_mean_policy.append(np.mean(rewards[action]))\n",
        "    rewards[action].append(bandit.trigger(action))\n",
        "    real_mean_policy.append((actual_means * action_probas).sum())"
      ]
    },
    {
      "cell_type": "code",
      "execution_count": 791,
      "metadata": {
        "colab": {
          "base_uri": "https://localhost:8080/",
          "height": 225
        },
        "id": "papb19Q0-GNf",
        "outputId": "55a86f41-73e4-4e8c-c385-6805b7c0220e"
      },
      "outputs": [
        {
          "data": {
            "image/png": "[encoded data removed]",
            "text/plain": [
              "<Figure size 1000x300 with 1 Axes>"
            ]
          },
          "metadata": {},
          "output_type": "display_data"
        }
      ],
      "source": [
        "plt.figure(figsize = (10, 3))#, dpi = 300)\n",
        "plt.plot(np.arange(N), [real_max_exp] * N)\n",
        "plt.plot(np.arange(N), estimated_mean_policy)\n",
        "plt.plot(np.arange(N), real_mean_policy)\n",
        "plt.xlabel(\"Timestamp\")\n",
        "plt.ylabel(\"Value\")\n",
        "plt.legend(['Real max mean', 'Estimated mean by policy', 'Real mean by policy'])\n",
        "plt.show()"
      ]
    },
    {
      "cell_type": "markdown",
      "metadata": {
        "id": "QCM4rRmwXyCC"
      },
      "source": [
        "### SoftMax"
      ]
    },
    {
      "cell_type": "code",
      "execution_count": 792,
      "metadata": {
        "id": "vG1RWcmXDlMo"
      },
      "outputs": [],
      "source": [
        "def softmax_policy(rewards):\n",
        "    means = []\n",
        "    # mean for each action\n",
        "    for rew_list in rewards:\n",
        "        means.append(np.mean(rew_list))\n",
        "     \n",
        "    return np.exp(means)/sum(np.exp(means))"
      ]
    },
    {
      "cell_type": "code",
      "execution_count": 793,
      "metadata": {
        "id": "TBnGdi7hDvBg"
      },
      "outputs": [
        {
          "data": {
            "text/plain": [
              "[[-4], [0], [0], [1]]"
            ]
          },
          "execution_count": 793,
          "metadata": {},
          "output_type": "execute_result"
        }
      ],
      "source": [
        "rewards = [[bandit.trigger(i)] for i in range(n_arms)]\n",
        "rewards"
      ]
    },
    {
      "cell_type": "code",
      "execution_count": 794,
      "metadata": {
        "id": "6Z78G5VgDw5Y"
      },
      "outputs": [],
      "source": [
        "# mean reward for each arm\n",
        "actual_means = [arm.distribution.mean() - arm.cost for arm in bandit.arms]\n",
        "# max mean reward\n",
        "real_max_exp = max(actual_means)\n",
        "\n",
        "estimated_mean_policy = []\n",
        "real_mean_policy = []\n",
        "\n",
        "N = 100\n",
        "\n",
        "for i in range(N):\n",
        "    # choosing an action\n",
        "    action_probas = softmax_policy(rewards)\n",
        "    action = np.random.choice(n_arms, size = 1, p = action_probas)[0]\n",
        "\n",
        "    # recording the results\n",
        "    estimated_mean_policy.append(np.mean(rewards[action]))\n",
        "    rewards[action].append(bandit.trigger(action))\n",
        "    real_mean_policy.append((actual_means * action_probas).sum())"
      ]
    },
    {
      "cell_type": "code",
      "execution_count": 795,
      "metadata": {
        "colab": {
          "base_uri": "https://localhost:8080/",
          "height": 225
        },
        "id": "lGHdJSOQDyXh",
        "outputId": "c8483b0e-e06c-4984-8c61-03520a4e6717"
      },
      "outputs": [
        {
          "data": {
            "image/png": "[encoded data removed]",
            "text/plain": [
              "<Figure size 1000x300 with 1 Axes>"
            ]
          },
          "metadata": {},
          "output_type": "display_data"
        }
      ],
      "source": [
        "plt.figure(figsize = (10, 3))#, dpi = 300)\n",
        "plt.plot(np.arange(N), [real_max_exp] * N)\n",
        "plt.plot(np.arange(N), estimated_mean_policy)\n",
        "plt.plot(np.arange(N), real_mean_policy)\n",
        "plt.xlabel(\"Timestamp\")\n",
        "plt.ylabel(\"Value\")\n",
        "plt.legend(['Real max mean', 'Estimated mean by policy', 'Real mean by policy'])\n",
        "plt.show()"
      ]
    },
    {
      "cell_type": "markdown",
      "metadata": {
        "id": "4FHCjtnRFytH"
      },
      "source": [
        "### Task\n",
        "\n",
        "Implement Softmax with temperature policy and repeat the actions from above. Explain in your words (in text cell) why do we need to use softmax with temperature, not ordinary one. "
      ]
    },
    {
      "cell_type": "markdown",
      "metadata": {},
      "source": [
        "Using temperature in softmax is like going from exploration to exploitation. The high temperature makes the probabilities of actions almost equal, which gives model an opportunity to try several options. When temperature is low, model starts exploitation process. An ordinary softmax might get stuck in a not the best policy."
      ]
    },
    {
      "cell_type": "code",
      "execution_count": 796,
      "metadata": {},
      "outputs": [],
      "source": [
        "def softmax_policy_with_temprerature(rewards, temperature):\n",
        "    means = []\n",
        "    # mean for each action\n",
        "    for rew_list in rewards:\n",
        "        means.append(np.mean(rew_list)/temperature)\n",
        "     \n",
        "    return np.exp(means)/sum(np.exp(means))"
      ]
    },
    {
      "cell_type": "code",
      "execution_count": 797,
      "metadata": {},
      "outputs": [
        {
          "data": {
            "text/plain": [
              "[[2], [1], [0], [3]]"
            ]
          },
          "execution_count": 797,
          "metadata": {},
          "output_type": "execute_result"
        }
      ],
      "source": [
        "rewards = [[bandit.trigger(i)] for i in range(n_arms)]\n",
        "rewards"
      ]
    },
    {
      "cell_type": "code",
      "execution_count": 798,
      "metadata": {},
      "outputs": [],
      "source": [
        "# mean reward for each arm\n",
        "actual_means = [arm.distribution.mean() - arm.cost for arm in bandit.arms]\n",
        "# max mean reward\n",
        "real_max_exp = max(actual_means)\n",
        "\n",
        "estimated_mean_policy = []\n",
        "real_mean_policy = []\n",
        "\n",
        "N = 100\n",
        "\n",
        "for i in range(N):\n",
        "    # choosing an action\n",
        "    action_probas = softmax_policy_with_temprerature(rewards, 10/(i+1))\n",
        "    action = np.random.choice(n_arms, size = 1, p = action_probas)[0]\n",
        "\n",
        "    # recording the results\n",
        "    estimated_mean_policy.append(np.mean(rewards[action]))\n",
        "    rewards[action].append(bandit.trigger(action))\n",
        "    real_mean_policy.append((actual_means * action_probas).sum())"
      ]
    },
    {
      "cell_type": "code",
      "execution_count": 799,
      "metadata": {},
      "outputs": [
        {
          "data": {
            "image/png": "[encoded data removed]",
            "text/plain": [
              "<Figure size 1000x300 with 1 Axes>"
            ]
          },
          "metadata": {},
          "output_type": "display_data"
        }
      ],
      "source": [
        "plt.figure(figsize = (10, 3))#, dpi = 300)\n",
        "plt.plot(np.arange(N), [real_max_exp] * N)\n",
        "plt.plot(np.arange(N), estimated_mean_policy)\n",
        "plt.plot(np.arange(N), real_mean_policy)\n",
        "plt.xlabel(\"Timestamp\")\n",
        "plt.ylabel(\"Value\")\n",
        "plt.legend(['Real max mean', 'Estimated mean by policy', 'Real mean by policy'])\n",
        "plt.show()"
      ]
    },
    {
      "cell_type": "markdown",
      "metadata": {},
      "source": [
        "As we can see, softmax with temperature converges at infinity."
      ]
    },
    {
      "cell_type": "markdown",
      "metadata": {
        "id": "q6Qbm62eRbqv"
      },
      "source": [
        "# Bayesian"
      ]
    },
    {
      "cell_type": "markdown",
      "metadata": {
        "id": "RFeu9fAleLhU"
      },
      "source": [
        "## Normal vs Continuous Uniform distributions"
      ]
    },
    {
      "cell_type": "code",
      "execution_count": 800,
      "metadata": {
        "id": "ahi8XH8oeSF8"
      },
      "outputs": [],
      "source": [
        "import matplotlib.pyplot as plt\n",
        "import seaborn as sns\n",
        "import numpy as np\n",
        "import scipy.stats as stats\n",
        "\n",
        "sns.set_style(\"whitegrid\")"
      ]
    },
    {
      "cell_type": "code",
      "execution_count": 801,
      "metadata": {
        "colab": {
          "base_uri": "https://localhost:8080/",
          "height": 388
        },
        "id": "XvMNn2VNearS",
        "outputId": "2d65f168-bc6b-4cf5-fc55-c42424534815"
      },
      "outputs": [
        {
          "data": {
            "image/png": "[encoded data removed]",
            "text/plain": [
              "<Figure size 1000x600 with 1 Axes>"
            ]
          },
          "metadata": {},
          "output_type": "display_data"
        }
      ],
      "source": [
        "# parameters\n",
        "mu = 0\n",
        "variance = 1\n",
        "sigma = np.sqrt(variance)\n",
        "\n",
        "a = -2\n",
        "b = 4\n",
        "# x\n",
        "x = np.linspace(mu - 3*sigma, mu + 3*sigma, 1000)\n",
        "\n",
        "# plotting\n",
        "plt.figure(figsize = (10, 6))#, dpi = 300)\n",
        "plt.plot(x, stats.norm.pdf(x, mu, sigma))\n",
        "plt.plot(x, stats.uniform.pdf(x, a, b))\n",
        "plt.xlabel(\"x\")\n",
        "plt.ylabel(\"P(x)\")\n",
        "plt.legend(['Normal(0, 1)', 'Uniform[-2, 2]'])\n",
        "plt.show()"
      ]
    },
    {
      "cell_type": "markdown",
      "metadata": {
        "id": "3oemJ6iQgir0"
      },
      "source": [
        "### Uniform case"
      ]
    },
    {
      "cell_type": "code",
      "execution_count": 802,
      "metadata": {
        "colab": {
          "base_uri": "https://localhost:8080/",
          "height": 388
        },
        "id": "vgYE8HyNgiP9",
        "outputId": "6940ba91-14e8-40ca-b240-dda12fbae3ae"
      },
      "outputs": [
        {
          "data": {
            "image/png": "[encoded data removed]",
            "text/plain": [
              "<Figure size 1000x600 with 1 Axes>"
            ]
          },
          "metadata": {},
          "output_type": "display_data"
        }
      ],
      "source": [
        "n = 100\n",
        "samples = stats.uniform.rvs(loc = a, scale = b, size=n)\n",
        "\n",
        "plt.figure(figsize = (10, 6))#, dpi = 300)\n",
        "plt.plot(x, stats.norm.pdf(x, mu, sigma))\n",
        "plt.plot(x, stats.uniform.pdf(x, a, b))\n",
        "plt.hist(samples, bins = 20, density = True, alpha = 0.3)\n",
        "plt.xlabel(\"x\")\n",
        "plt.ylabel(\"P(x)\")\n",
        "plt.legend(['Normal(0, 1)', 'Uniform[-2, 2]', 'Samples'])\n",
        "plt.show()"
      ]
    },
    {
      "cell_type": "code",
      "execution_count": 803,
      "metadata": {
        "id": "RQZnM9ijekj4"
      },
      "outputs": [],
      "source": [
        "# computing proba over time\n",
        "log_probabilities = [0]\n",
        "for sample in samples:\n",
        "    log_proba_norm = np.log10(stats.norm.pdf(sample, mu, sigma))\n",
        "    log_proba_unif = np.log10(stats.uniform.pdf(sample, a, b))\n",
        "    \n",
        "    last_proba = log_probabilities[-1]\n",
        "    log_probabilities.append(last_proba + log_proba_unif - log_proba_norm)"
      ]
    },
    {
      "cell_type": "code",
      "execution_count": 804,
      "metadata": {
        "colab": {
          "base_uri": "https://localhost:8080/",
          "height": 225
        },
        "id": "NWTB16v2iJ_Z",
        "outputId": "34624284-cd28-4655-b865-347a3febf656"
      },
      "outputs": [
        {
          "data": {
            "image/png": "[encoded data removed]",
            "text/plain": [
              "<Figure size 800x300 with 1 Axes>"
            ]
          },
          "metadata": {},
          "output_type": "display_data"
        }
      ],
      "source": [
        "plt.figure(figsize = (8, 3))#, dpi = 300)\n",
        "\n",
        "plt.plot(np.arange(0, 101), log_probabilities)\n",
        "plt.xlabel(\"Timestep\")\n",
        "plt.ylabel(\"Proba log10\")\n",
        "plt.legend([\"Uniform over Normal\"])\n",
        "plt.show()"
      ]
    },
    {
      "cell_type": "markdown",
      "metadata": {
        "id": "EB3d-I0Jmfcz"
      },
      "source": [
        "### Normal case"
      ]
    },
    {
      "cell_type": "code",
      "execution_count": 805,
      "metadata": {
        "id": "nRJOMuK2j8OI"
      },
      "outputs": [],
      "source": [
        "n = 100\n",
        "samples = stats.norm.rvs(loc = mu, scale = sigma, size=n)"
      ]
    },
    {
      "cell_type": "code",
      "execution_count": 806,
      "metadata": {
        "colab": {
          "base_uri": "https://localhost:8080/"
        },
        "id": "KjDD3gk_3MQy",
        "outputId": "8feffc9d-207e-4232-965c-43a2128b37a0"
      },
      "outputs": [
        {
          "data": {
            "text/plain": [
              "array([1.04755657])"
            ]
          },
          "execution_count": 806,
          "metadata": {},
          "output_type": "execute_result"
        }
      ],
      "source": [
        "stats.norm(loc = mu, scale = sigma).rvs(1)"
      ]
    },
    {
      "cell_type": "code",
      "execution_count": 807,
      "metadata": {
        "id": "z2oIJeBdmw8o"
      },
      "outputs": [],
      "source": [
        "probabilities = [1]\n",
        "for idx, sample in enumerate(samples):\n",
        "    if stats.uniform.pdf(sample, a, b) > 0:\n",
        "        log_proba_norm = np.log10(stats.norm.pdf(sample, mu, sigma))\n",
        "        log_proba_unif = np.log10(stats.uniform.pdf(sample, a, b))\n",
        "    \n",
        "        last_proba = np.log10(probabilities[-1])\n",
        "        probabilities.append(10**(last_proba + log_proba_unif - log_proba_norm))\n",
        "    else:\n",
        "        probabilities += [0] * (n - idx)\n",
        "        break"
      ]
    },
    {
      "cell_type": "markdown",
      "metadata": {
        "id": "0Ya5HAU3orRj"
      },
      "source": [
        "Generating sequence \"falling\" in specified index range:"
      ]
    },
    {
      "cell_type": "code",
      "execution_count": 808,
      "metadata": {
        "id": "t8_ZL4P0n6bD"
      },
      "outputs": [],
      "source": [
        "l_bound = -1\n",
        "u_bound = 1\n",
        "\n",
        "counter = 0\n",
        "flag = True\n",
        "while flag:\n",
        "    samples = stats.norm.rvs(loc = mu, scale = sigma, size=n)\n",
        "\n",
        "    probabilities = [1]\n",
        "    for idx, sample in enumerate(samples):\n",
        "        if stats.uniform.pdf(sample, a, b) > 0:\n",
        "            log_proba_norm = np.log10(stats.norm.pdf(sample, mu, sigma))\n",
        "            log_proba_unif = np.log10(stats.uniform.pdf(sample, a, b))\n",
        "        \n",
        "            last_proba = np.log10(probabilities[-1])\n",
        "            probabilities.append(10**(last_proba + log_proba_unif - log_proba_norm))\n",
        "        else:\n",
        "            if idx > l_bound and idx < u_bound:\n",
        "                flag = False\n",
        "            probabilities += [0] * (n - idx)\n",
        "            counter += 1\n",
        "            break"
      ]
    },
    {
      "cell_type": "code",
      "execution_count": 809,
      "metadata": {
        "colab": {
          "base_uri": "https://localhost:8080/",
          "height": 225
        },
        "id": "H9kV39qlnQP0",
        "outputId": "31b4810e-7356-42b0-a60f-9ade8236cb51"
      },
      "outputs": [
        {
          "data": {
            "image/png": "[encoded data removed]",
            "text/plain": [
              "<Figure size 800x300 with 1 Axes>"
            ]
          },
          "metadata": {},
          "output_type": "display_data"
        }
      ],
      "source": [
        "plt.figure(figsize = (8, 3))#, dpi = 300)\n",
        "\n",
        "plt.plot(np.arange(0, 101), probabilities)\n",
        "plt.xlabel(\"Timestep\")\n",
        "plt.ylabel(\"Proba\")\n",
        "plt.legend([\"Uniform over Normal\"])\n",
        "plt.show()"
      ]
    },
    {
      "cell_type": "code",
      "execution_count": 810,
      "metadata": {
        "colab": {
          "base_uri": "https://localhost:8080/",
          "height": 388
        },
        "id": "OyT-ZpWVnTTf",
        "outputId": "c79cff15-4840-4d61-ed44-75bce0545bfd"
      },
      "outputs": [
        {
          "data": {
            "image/png": "[encoded data removed]",
            "text/plain": [
              "<Figure size 1000x600 with 1 Axes>"
            ]
          },
          "metadata": {},
          "output_type": "display_data"
        }
      ],
      "source": [
        "plt.figure(figsize = (10, 6))#, dpi = 300)\n",
        "plt.plot(x, stats.norm.pdf(x, mu, sigma))\n",
        "plt.plot(x, stats.uniform.pdf(x, a, b))\n",
        "plt.hist(samples, bins = 20, density = True, alpha = 0.3)\n",
        "plt.xlabel(\"x\")\n",
        "plt.ylabel(\"P(x)\")\n",
        "plt.legend(['Normal(0, 1)', 'Uniform[-2, 2]', 'Samples'])\n",
        "plt.show()"
      ]
    },
    {
      "cell_type": "markdown",
      "metadata": {
        "id": "TiolIH83PHU_"
      },
      "source": [
        "## Bayesian MAB"
      ]
    },
    {
      "cell_type": "code",
      "execution_count": 811,
      "metadata": {
        "id": "rQtTIL8ZVQ_x"
      },
      "outputs": [],
      "source": [
        "cost = 3\n",
        "distribution = stats.randint(1, 7)\n",
        "\n",
        "bandit = UniformMultiArmedBandit(1, [cost], [distribution])"
      ]
    },
    {
      "cell_type": "markdown",
      "metadata": {
        "id": "qE7NYfkJ5BnI"
      },
      "source": [
        "### First sample"
      ]
    },
    {
      "cell_type": "code",
      "execution_count": 812,
      "metadata": {
        "colab": {
          "base_uri": "https://localhost:8080/"
        },
        "id": "dkKmtcLN4dDx",
        "outputId": "ec2854d3-4fa9-427a-8150-14cc0f6e4f25"
      },
      "outputs": [
        {
          "name": "stdout",
          "output_type": "stream",
          "text": [
            "Returned value: 3\n"
          ]
        }
      ],
      "source": [
        "sample = bandit.trigger(0) + cost\n",
        "print(\"Returned value:\", sample)"
      ]
    },
    {
      "cell_type": "code",
      "execution_count": 814,
      "metadata": {
        "colab": {
          "base_uri": "https://localhost:8080/",
          "referenced_widgets": [
            "403093ea61de4838985665682c956840",
            "dd46da81c141446eab091f3f5ea8273e",
            "c818d5a41776407ca26e23854f724e6e",
            "a7e8f0b8b166495c942e99ebb7a04979",
            "b050a98a748346a9953874eba1779595",
            "3344547053a74088807d1d66430d0c95",
            "d256f1b611ca4594a5743fd3f4d2594b",
            "023f72fc3d4b4566a5a17e2171c55fc3",
            "07562b445f034af7a6fd7c9f060b758a",
            "9bae670cfb924c7b86f4ab8553c9e88d",
            "b4842e7946944926b3baad3b5ba808a0"
          ]
        },
        "id": "odayji7j5E9o",
        "outputId": "f2961b9f-732b-4e36-ba56-fe601d41a496"
      },
      "outputs": [
        {
          "data": {
            "application/vnd.jupyter.widget-view+json": {
              "model_id": "d73530d9f3fc4dcbb156ae5c31c792de",
              "version_major": 2,
              "version_minor": 0
            },
            "text/plain": [
              "  0%|          | 0/1000 [00:00<?, ?it/s]"
            ]
          },
          "metadata": {},
          "output_type": "display_data"
        }
      ],
      "source": [
        "from tqdm.auto import tqdm\n",
        "\n",
        "probabilities = np.ones((1000, 1000))\n",
        "\n",
        "for loc in tqdm(range(1000)):\n",
        "    for scale in range(1000):\n",
        "        probabilities[loc, scale] *= stats.randint.pmf(sample, loc, loc + 1 + scale)"
      ]
    },
    {
      "cell_type": "code",
      "execution_count": 815,
      "metadata": {
        "colab": {
          "base_uri": "https://localhost:8080/"
        },
        "id": "tibXTXDy6W_A",
        "outputId": "8bfd78aa-769b-465b-89dc-aaa828ad913c"
      },
      "outputs": [
        {
          "data": {
            "text/plain": [
              "1.0"
            ]
          },
          "execution_count": 815,
          "metadata": {},
          "output_type": "execute_result"
        }
      ],
      "source": [
        "probabilities[sample, 0]"
      ]
    },
    {
      "cell_type": "code",
      "execution_count": 817,
      "metadata": {
        "colab": {
          "base_uri": "https://localhost:8080/"
        },
        "id": "G_7xWrWJ7LGv",
        "outputId": "c4eff7fa-ba99-4ace-87d7-166796f82756"
      },
      "outputs": [
        {
          "data": {
            "text/plain": [
              "0.5"
            ]
          },
          "execution_count": 817,
          "metadata": {},
          "output_type": "execute_result"
        }
      ],
      "source": [
        "probabilities[sample - 1, 1]"
      ]
    },
    {
      "cell_type": "code",
      "execution_count": 818,
      "metadata": {
        "colab": {
          "base_uri": "https://localhost:8080/"
        },
        "id": "mFHFBvkw7Ncw",
        "outputId": "3e4f1691-853f-4374-8c27-efa45013d7ec"
      },
      "outputs": [
        {
          "data": {
            "text/plain": [
              "0.5"
            ]
          },
          "execution_count": 818,
          "metadata": {},
          "output_type": "execute_result"
        }
      ],
      "source": [
        "probabilities[sample, 1]"
      ]
    },
    {
      "cell_type": "markdown",
      "metadata": {
        "id": "fnpGA0F19YOw"
      },
      "source": [
        "#### Computing expectation distribution"
      ]
    },
    {
      "cell_type": "code",
      "execution_count": 819,
      "metadata": {
        "id": "2JAl-GWA9axo"
      },
      "outputs": [],
      "source": [
        "real_probas = probabilities / probabilities.sum()\n",
        "\n",
        "expected_mean_dict = {}\n",
        "\n",
        "for loc in range(1000):\n",
        "    for scale in range(1000):\n",
        "        mean = loc + scale / 2\n",
        "        # in case met first time\n",
        "        current_proba = expected_mean_dict.get(mean, 0)\n",
        "        expected_mean_dict[mean] = current_proba + real_probas[loc, scale]"
      ]
    },
    {
      "cell_type": "code",
      "execution_count": 820,
      "metadata": {
        "colab": {
          "base_uri": "https://localhost:8080/"
        },
        "id": "V5V13YUm-XXh",
        "outputId": "429167b1-0ba2-4694-ce86-48f826898526"
      },
      "outputs": [
        {
          "data": {
            "image/png": "[encoded data removed]",
            "text/plain": [
              "<Figure size 1000x300 with 1 Axes>"
            ]
          },
          "metadata": {},
          "output_type": "display_data"
        }
      ],
      "source": [
        "mean_proba_pairs = list(expected_mean_dict.items())\n",
        "mean_proba_pairs = np.array(sorted(mean_proba_pairs, key = lambda x: x[0]))\n",
        "\n",
        "plt.figure(figsize = (10, 3))#, dpi = 300)\n",
        "plt.plot(mean_proba_pairs[:, 0], mean_proba_pairs[:, 1])\n",
        "plt.xlim([0, 100])\n",
        "plt.xlabel(\"Expectation\")\n",
        "plt.ylabel(\"P(Expectation)\")\n",
        "plt.show()"
      ]
    },
    {
      "cell_type": "markdown",
      "metadata": {
        "id": "giwXZJkL84SQ"
      },
      "source": [
        "#### Computing expected expectation"
      ]
    },
    {
      "cell_type": "code",
      "execution_count": 821,
      "metadata": {
        "id": "F2WVoxTm86rv"
      },
      "outputs": [],
      "source": [
        "mean_matrix = np.zeros((1000, 1000))\n",
        "for loc in range(1000):\n",
        "    for scale in range(1000):\n",
        "        mean_matrix[loc, scale] = loc + scale / 2"
      ]
    },
    {
      "cell_type": "code",
      "execution_count": 822,
      "metadata": {
        "colab": {
          "base_uri": "https://localhost:8080/"
        },
        "id": "0NQvF0-39GYY",
        "outputId": "249b80c3-d9b1-4650-92e1-58b343881314"
      },
      "outputs": [
        {
          "name": "stdout",
          "output_type": "stream",
          "text": [
            "Mean expectation =  79.0989\n"
          ]
        }
      ],
      "source": [
        "mean_expectation = (real_probas * mean_matrix).sum()\n",
        "print(\"Mean expectation = \", round(mean_expectation, 4))"
      ]
    },
    {
      "cell_type": "markdown",
      "metadata": {
        "id": "jr6SBuoJ_4Lg"
      },
      "source": [
        "### Second sample"
      ]
    },
    {
      "cell_type": "code",
      "execution_count": 823,
      "metadata": {
        "colab": {
          "base_uri": "https://localhost:8080/",
          "referenced_widgets": [
            "3f0809503ebe4b15a18d1237b75ba3e1",
            "2890293226a248e89aadd4bfadf89986",
            "a7599e89e8764caa9ab22934a361abe6",
            "19d2efc990ef400c801423bf183e7f6d",
            "289df458c59a49f6b0e1b2527620998c",
            "ff7d6f0cfbfc4d4dbd900d86ddd5cfb3",
            "c1e357ecddd44e75b5ee7ee4d6d146a8",
            "868b4f060bde4cc0b3ba12bf61f6ea57",
            "486f2667ee43482da7cb5cef8ed2d27d",
            "94f0ed44743d47918a8a13155c9daabe",
            "c5cf1ab5004043ccbaf8d6302e50c606"
          ]
        },
        "id": "xTYZKeEc_6KA",
        "outputId": "964e3a56-e359-4460-f9e6-a2069f3f5039"
      },
      "outputs": [
        {
          "name": "stdout",
          "output_type": "stream",
          "text": [
            "Returned value: 1\n"
          ]
        },
        {
          "data": {
            "application/vnd.jupyter.widget-view+json": {
              "model_id": "6c8b2e7668f5458aa4ceb64a2b9f0dbc",
              "version_major": 2,
              "version_minor": 0
            },
            "text/plain": [
              "  0%|          | 0/1000 [00:00<?, ?it/s]"
            ]
          },
          "metadata": {},
          "output_type": "display_data"
        }
      ],
      "source": [
        "sample2 = bandit.trigger(0) + cost\n",
        "print(\"Returned value:\", sample2)\n",
        "\n",
        "for loc in tqdm(range(1000)):\n",
        "    for scale in range(1000):\n",
        "        # not wasting time on 0\n",
        "        if probabilities[loc, scale]:\n",
        "            probabilities[loc, scale] *= stats.randint.pmf(sample2, loc, loc + 1 + scale)"
      ]
    },
    {
      "cell_type": "code",
      "execution_count": 824,
      "metadata": {
        "colab": {
          "base_uri": "https://localhost:8080/"
        },
        "id": "69uXSlmhAxqZ",
        "outputId": "4bbc6416-d84f-49d5-f56d-8ec6cb2ad23a"
      },
      "outputs": [
        {
          "data": {
            "text/plain": [
              "0.0"
            ]
          },
          "execution_count": 824,
          "metadata": {},
          "output_type": "execute_result"
        }
      ],
      "source": [
        "max_sample = max(sample, sample2)\n",
        "probabilities[max_sample:, :].sum()"
      ]
    },
    {
      "cell_type": "code",
      "execution_count": 825,
      "metadata": {
        "colab": {
          "base_uri": "https://localhost:8080/"
        },
        "id": "xdXZNr0IBlbZ",
        "outputId": "ab0ad5ea-7045-47c3-f927-f781d5255223"
      },
      "outputs": [
        {
          "data": {
            "text/plain": [
              "0.0"
            ]
          },
          "execution_count": 825,
          "metadata": {},
          "output_type": "execute_result"
        }
      ],
      "source": [
        "dist = abs(sample - sample2)\n",
        "probabilities[:, :dist].sum()"
      ]
    },
    {
      "cell_type": "code",
      "execution_count": 826,
      "metadata": {
        "colab": {
          "base_uri": "https://localhost:8080/"
        },
        "id": "V5Lh24JBB5w3",
        "outputId": "dce6dbf3-ae71-4bf3-d415-0bece878951d"
      },
      "outputs": [
        {
          "data": {
            "text/plain": [
              "1995"
            ]
          },
          "execution_count": 826,
          "metadata": {},
          "output_type": "execute_result"
        }
      ],
      "source": [
        "probabilities.astype('bool').sum()"
      ]
    },
    {
      "cell_type": "markdown",
      "metadata": {
        "id": "8xGgpVSmCdCf"
      },
      "source": [
        "#### Computing expectation distribution"
      ]
    },
    {
      "cell_type": "code",
      "execution_count": 827,
      "metadata": {
        "id": "N4jMIVaOChnf"
      },
      "outputs": [],
      "source": [
        "real_probas = probabilities / probabilities.sum()\n",
        "\n",
        "expected_mean_dict = {}\n",
        "\n",
        "for loc in range(1000):\n",
        "    for scale in range(1000):\n",
        "        mean = loc + scale / 2\n",
        "        # in case met first time\n",
        "        current_proba = expected_mean_dict.get(mean, 0)\n",
        "        expected_mean_dict[mean] = current_proba + real_probas[loc, scale]"
      ]
    },
    {
      "cell_type": "code",
      "execution_count": 828,
      "metadata": {
        "colab": {
          "base_uri": "https://localhost:8080/"
        },
        "id": "3Tjhvgh3CjkA",
        "outputId": "11bf4a91-b3fb-49e8-e91d-e9ed8566250a"
      },
      "outputs": [
        {
          "data": {
            "image/png": "[encoded data removed]",
            "text/plain": [
              "<Figure size 1000x300 with 1 Axes>"
            ]
          },
          "metadata": {},
          "output_type": "display_data"
        }
      ],
      "source": [
        "mean_proba_pairs = list(expected_mean_dict.items())\n",
        "mean_proba_pairs = np.array(sorted(mean_proba_pairs, key = lambda x: x[0]))\n",
        "\n",
        "plt.figure(figsize = (10, 3))#, dpi = 300)\n",
        "plt.plot(mean_proba_pairs[:, 0], mean_proba_pairs[:, 1])\n",
        "plt.xlim([0, 100])\n",
        "plt.xlabel(\"Expectation\")\n",
        "plt.ylabel(\"P(Expectation)\")\n",
        "plt.show()"
      ]
    },
    {
      "cell_type": "code",
      "execution_count": 829,
      "metadata": {
        "colab": {
          "base_uri": "https://localhost:8080/"
        },
        "id": "pOvArXUXC-Gg",
        "outputId": "a2109526-754b-45e3-f362-2da23388fe88"
      },
      "outputs": [
        {
          "name": "stdout",
          "output_type": "stream",
          "text": [
            "Mean expectation =  8.6801\n"
          ]
        }
      ],
      "source": [
        "mean_expectation = (real_probas * mean_matrix).sum()\n",
        "print(\"Mean expectation = \", round(mean_expectation, 4))"
      ]
    },
    {
      "cell_type": "markdown",
      "metadata": {
        "id": "2-mG3nDvDghW"
      },
      "source": [
        "### Five samples"
      ]
    },
    {
      "cell_type": "code",
      "execution_count": 830,
      "metadata": {
        "colab": {
          "base_uri": "https://localhost:8080/",
          "referenced_widgets": [
            "b22de9dfac084f1ab08809631b707dd3",
            "aa721d25769b435f8ad16712c1481a5e",
            "a6e5b8c476e84912ba3546b8e117068a",
            "a36d0623cd14442f9f1f05eda387eab9",
            "c2b05bcaf2654ce0b007baad43945580",
            "bb044c5ff9e2490a8be514d90ca58b48",
            "b4366ade764849c89faeb60e498f9011",
            "59bb326b81ba47be9020fb8ba4ca4fb0",
            "043374c423c4488d8787169092e37737",
            "6f31310952ba4e88ba96414287b37ccd",
            "067f96836ac74e9c82913da3a3b88a6b",
            "6ed4bb6b818747a9be299944ef7f7e0d",
            "c908f89831624f8bb9bfbb4d4055292a",
            "4d55aba0740b4550a93d255343672d6a",
            "0efc0240e54c4890a85667e35008d1dd",
            "cd2fb6c35abf48d98db9dab6cba9b570",
            "ee1c4c685e5a4915b5f320bb2c226c1c",
            "014fd6fdd60e4830a5aba636d89aee15",
            "7e5c54eb48324f0aa5d79e769b776378",
            "193473d765774e81a8bbb921d31d059c",
            "1b283d95413e4e21b01220ed31a3626e",
            "4359ab58246b41e19651624ad0e2b19b",
            "c815f63635f948a2a019e7be5598b787",
            "71d4eed5203840628b2fbb4cbff35519",
            "73f10e5678dc4ca6bb17eab38fad6206",
            "933f9e1b0d7c4032be45630141ef98fd",
            "1c3b91a8081e48888de5cee7e2a5ff0b",
            "e3dfddd3257544db985fc2080f2a5333",
            "d0aeb3f4bfed4112b073589b55d9fbee",
            "baadb3fda9a345b1b18f42ccc33d041b",
            "86a491c906434c2b92791c6c9a22f5f8",
            "54bd9b81965c4059ac4cfe8d7c70dced",
            "1b3139d422bf4ab8a0541666a82b6cf1"
          ]
        },
        "id": "NZzMMPYADpYp",
        "outputId": "e33a0481-9db1-4116-a9eb-46396389a362"
      },
      "outputs": [
        {
          "name": "stdout",
          "output_type": "stream",
          "text": [
            "Returned value: 5\n"
          ]
        },
        {
          "data": {
            "application/vnd.jupyter.widget-view+json": {
              "model_id": "d1fdee2811f44de9b0b260f6eef85204",
              "version_major": 2,
              "version_minor": 0
            },
            "text/plain": [
              "  0%|          | 0/1000 [00:00<?, ?it/s]"
            ]
          },
          "metadata": {},
          "output_type": "display_data"
        },
        {
          "name": "stdout",
          "output_type": "stream",
          "text": [
            "Returned value: 5\n"
          ]
        },
        {
          "data": {
            "application/vnd.jupyter.widget-view+json": {
              "model_id": "8920bda168e34dea838f5ad0f85e605d",
              "version_major": 2,
              "version_minor": 0
            },
            "text/plain": [
              "  0%|          | 0/1000 [00:00<?, ?it/s]"
            ]
          },
          "metadata": {},
          "output_type": "display_data"
        },
        {
          "name": "stdout",
          "output_type": "stream",
          "text": [
            "Returned value: 4\n"
          ]
        },
        {
          "data": {
            "application/vnd.jupyter.widget-view+json": {
              "model_id": "98513da9b77e46af845e9efdb37cee7e",
              "version_major": 2,
              "version_minor": 0
            },
            "text/plain": [
              "  0%|          | 0/1000 [00:00<?, ?it/s]"
            ]
          },
          "metadata": {},
          "output_type": "display_data"
        }
      ],
      "source": [
        "samples = [sample, sample2]\n",
        "\n",
        "for i in range(3):\n",
        "    sample = bandit.trigger(0) + cost\n",
        "    print(\"Returned value:\", sample)\n",
        "\n",
        "    for loc in tqdm(range(1000)):\n",
        "        for scale in range(1000):\n",
        "            # not wasting time on 0\n",
        "            if probabilities[loc, scale]:\n",
        "                probabilities[loc, scale] *= stats.randint.pmf(sample, loc, loc + 1 + scale)\n",
        "\n",
        "    samples.append(sample)"
      ]
    },
    {
      "cell_type": "code",
      "execution_count": 831,
      "metadata": {
        "id": "7a2Y8XS5D6s-"
      },
      "outputs": [],
      "source": [
        "real_probas = probabilities / probabilities.sum()\n",
        "\n",
        "expected_mean_dict = {}\n",
        "\n",
        "for loc in range(1000):\n",
        "    for scale in range(1000):\n",
        "        mean = loc + scale / 2\n",
        "        # in case met first time\n",
        "        current_proba = expected_mean_dict.get(mean, 0)\n",
        "        expected_mean_dict[mean] = current_proba + real_probas[loc, scale]"
      ]
    },
    {
      "cell_type": "code",
      "execution_count": 832,
      "metadata": {
        "colab": {
          "base_uri": "https://localhost:8080/"
        },
        "id": "wRX57m_qD943",
        "outputId": "2778d297-4d05-4e69-d602-0eff2040bc55"
      },
      "outputs": [
        {
          "data": {
            "image/png": "[encoded data removed]",
            "text/plain": [
              "<Figure size 1000x300 with 1 Axes>"
            ]
          },
          "metadata": {},
          "output_type": "display_data"
        }
      ],
      "source": [
        "mean_proba_pairs = list(expected_mean_dict.items())\n",
        "mean_proba_pairs = np.array(sorted(mean_proba_pairs, key = lambda x: x[0]))\n",
        "\n",
        "plt.figure(figsize = (10, 3))#, dpi = 300)\n",
        "plt.plot(mean_proba_pairs[:, 0], mean_proba_pairs[:, 1])\n",
        "plt.xlim([0, 100])\n",
        "plt.xlabel(\"Expectation\")\n",
        "plt.ylabel(\"P(Expectation)\")\n",
        "plt.show()"
      ]
    },
    {
      "cell_type": "code",
      "execution_count": 833,
      "metadata": {
        "colab": {
          "base_uri": "https://localhost:8080/"
        },
        "id": "OJOBsSVEEHAn",
        "outputId": "5062f0fc-0034-4abd-a867-a95775bcd92a"
      },
      "outputs": [
        {
          "name": "stdout",
          "output_type": "stream",
          "text": [
            "Mean expectation =  3.4408\n"
          ]
        }
      ],
      "source": [
        "mean_expectation = (real_probas * mean_matrix).sum()\n",
        "print(\"Mean expectation = \", round(mean_expectation, 4))"
      ]
    },
    {
      "cell_type": "markdown",
      "metadata": {
        "id": "IJJjgTZaPN1B"
      },
      "source": [
        "## Bayesian with prior MAB"
      ]
    },
    {
      "cell_type": "markdown",
      "metadata": {
        "id": "dZ3tNZQmPiJG"
      },
      "source": [
        "### First sample"
      ]
    },
    {
      "cell_type": "code",
      "execution_count": 834,
      "metadata": {
        "colab": {
          "base_uri": "https://localhost:8080/"
        },
        "id": "P6y5Pw3PPaNT",
        "outputId": "eea2bb44-1338-4d85-be56-0d1a0324d496"
      },
      "outputs": [
        {
          "name": "stdout",
          "output_type": "stream",
          "text": [
            "Returned value: 4\n"
          ]
        }
      ],
      "source": [
        "sample = bandit.trigger(0) + cost\n",
        "print(\"Returned value:\", sample)"
      ]
    },
    {
      "cell_type": "code",
      "execution_count": 835,
      "metadata": {
        "colab": {
          "base_uri": "https://localhost:8080/",
          "height": 49,
          "referenced_widgets": [
            "9b4ba43ba6ac4a60a1954fffe8ce9d7c",
            "d6e22cbd76ad4848b72a5ae5c6a41816",
            "646fc17c68854b97a8c8310cd8728a18",
            "02e533cdb8954f29b001624e798f1944",
            "88ee07cbeb3549268989ceca936513ed",
            "e94fc3ce2596432b91657c2d65421de2",
            "6f08bde82e2d40cab6be051217a84a19",
            "6f6741ef808d40969e16a24dab6ff9bb",
            "1a2e0c07b3524a8980ee6865f95ca4b2",
            "3b14eaad268547da9294d30fc468dbfc",
            "6b6243cac9cd4f849f032478ed520afc"
          ]
        },
        "id": "L3Du0lUhPk1V",
        "outputId": "469d5d2a-b869-4789-b0cb-8994f32eb2ef"
      },
      "outputs": [
        {
          "data": {
            "application/vnd.jupyter.widget-view+json": {
              "model_id": "67d8cdf2ee704f0db7829a211e151d5e",
              "version_major": 2,
              "version_minor": 0
            },
            "text/plain": [
              "  0%|          | 0/1000 [00:00<?, ?it/s]"
            ]
          },
          "metadata": {},
          "output_type": "display_data"
        }
      ],
      "source": [
        "from tqdm.auto import tqdm\n",
        "\n",
        "prior_probabilities = np.zeros((1000, 1000))\n",
        "for i in range(1000):\n",
        "    prior_probabilities[i, :] = 1 / (i+1)\n",
        "\n",
        "for loc in tqdm(range(1000)):\n",
        "    for scale in range(1000):\n",
        "        probabilities[loc, scale] *= stats.randint.pmf(sample, loc, loc + 1 + scale)"
      ]
    },
    {
      "cell_type": "markdown",
      "metadata": {
        "id": "FFHftfTtP-fe"
      },
      "source": [
        "#### Computing expectation distribution"
      ]
    },
    {
      "cell_type": "code",
      "execution_count": 836,
      "metadata": {
        "id": "-_sUu1jxQWf5"
      },
      "outputs": [],
      "source": [
        "real_probas = probabilities / probabilities.sum()\n",
        "\n",
        "expected_mean_dict = {}\n",
        "\n",
        "for loc in range(1000):\n",
        "    for scale in range(1000):\n",
        "        mean = loc + scale / 2\n",
        "        # in case met first time\n",
        "        current_proba = expected_mean_dict.get(mean, 0)\n",
        "        expected_mean_dict[mean] = current_proba + real_probas[loc, scale]"
      ]
    },
    {
      "cell_type": "code",
      "execution_count": 837,
      "metadata": {
        "colab": {
          "base_uri": "https://localhost:8080/",
          "height": 225
        },
        "id": "OnS7gNhkQZ44",
        "outputId": "2ef88380-34d0-4e1a-c70f-0b15ebffd8ba"
      },
      "outputs": [
        {
          "data": {
            "image/png": "[encoded data removed]",
            "text/plain": [
              "<Figure size 1000x300 with 1 Axes>"
            ]
          },
          "metadata": {},
          "output_type": "display_data"
        }
      ],
      "source": [
        "mean_proba_pairs = list(expected_mean_dict.items())\n",
        "mean_proba_pairs = np.array(sorted(mean_proba_pairs, key = lambda x: x[0]))\n",
        "\n",
        "plt.figure(figsize = (10, 3))#, dpi = 300)\n",
        "plt.plot(mean_proba_pairs[:, 0], mean_proba_pairs[:, 1])\n",
        "plt.xlim([0, 100])\n",
        "plt.xlabel(\"Expectation\")\n",
        "plt.ylabel(\"P(Expectation)\")\n",
        "plt.show()"
      ]
    },
    {
      "cell_type": "markdown",
      "metadata": {
        "id": "ZAIvWwY-QpIa"
      },
      "source": [
        "#### Computing expected expectation"
      ]
    },
    {
      "cell_type": "code",
      "execution_count": 838,
      "metadata": {
        "id": "9bM0fkMIQg14"
      },
      "outputs": [],
      "source": [
        "mean_matrix = np.zeros((1000, 1000))\n",
        "for loc in range(1000):\n",
        "    for scale in range(1000):\n",
        "        mean_matrix[loc, scale] = loc + scale / 2"
      ]
    },
    {
      "cell_type": "code",
      "execution_count": 839,
      "metadata": {
        "colab": {
          "base_uri": "https://localhost:8080/"
        },
        "id": "sWiuXWJ8Qhuy",
        "outputId": "a8d086ea-86f0-4991-8fec-0bbc99b8d613"
      },
      "outputs": [
        {
          "name": "stdout",
          "output_type": "stream",
          "text": [
            "Mean expectation =  3.2628\n"
          ]
        }
      ],
      "source": [
        "mean_expectation = (real_probas * mean_matrix).sum()\n",
        "print(\"Mean expectation = \", round(mean_expectation, 4))"
      ]
    },
    {
      "cell_type": "markdown",
      "metadata": {
        "id": "PiaiwrSGQvzJ"
      },
      "source": [
        "### Five samples"
      ]
    },
    {
      "cell_type": "code",
      "execution_count": 840,
      "metadata": {
        "colab": {
          "base_uri": "https://localhost:8080/",
          "height": 214,
          "referenced_widgets": [
            "a894ec89b4604b2c843fdda09dfba5ba",
            "f50bdd761bbe4ef3b6572bc474f2a400",
            "4b00ed8e7f7d4f4885ace4aeeefb5239",
            "98bee95528244664803fd09e9218b110",
            "2e71d7eae8e74e9d8029728aa829bbb5",
            "d25458ca2a8048d5ac2564f69268f15a",
            "20dd714db2b7454b95e3f6f26713718a",
            "45d4be59a4ef40efb9596221137d657d",
            "9501f460fec64c888ff7131cbdd8539b",
            "5572d5630d234d2bbefe3a75e4a661c9",
            "3336e58576c74dfbbb55e3fd62d9e869",
            "e422cc6dfdb9454d967bf6f47f592b11",
            "7a6f23ec62014edfbdec8d7dd0bbe15b",
            "108801d6c2f043aa8590ccce4f5eaab0",
            "ecb51a78f3e94d7aa23726e5643484b9",
            "0e8f13e0df2f4c9f8fcbbb975726382e",
            "cb574a7c3b4a4c3e8940cd7db6d94f67",
            "5bb3a3e73dda40dd8bf2b049aa3379b5",
            "9c963085ab184c91bc4cafdf830266f1",
            "6d92c04f8f5646b296555a5c49c6c5b8",
            "df9a25a4a942495683aa8ae5ea61a3c0",
            "97267a8796b244338223188bacfb7f0f",
            "edb2bc2c80574bd8b8864e981ab845cc",
            "502476d60fc04aec813f6e1beed18e8b",
            "eca2ddd5acad4044a2c5e180e0ffe910",
            "32af8efba7ff467c823be765e22ece81",
            "67861dcd7231433fb4c5cdd246a48501",
            "25fc7f5ec516457ebefe5fc8ed467b9b",
            "963bed8ddb254949b6fd41b735f42cc5",
            "29b0e1c8b9b94260a2b8629a4ab8955a",
            "55dbb127941243e4951f0723d1f0c3e3",
            "7d8232424d0f4999a6dcb89bc728b190",
            "129739f99a574c8ab361695196af70b3",
            "3421dc1c639c4c5ca8a5c9dafe552c61",
            "c4b7e6b3ab07498d807bc02a2a9511e9",
            "51ee01b497a143888e64d4761b8efd48",
            "cd4013e62dad41a094d7486706161f62",
            "bee123ee1e0e462db663b19c3444d46f",
            "d97af44cf5304e549622919eacbc6d0f",
            "3f221d44d16741d28afa712292ce981b",
            "da2ffd5116ba4be38778ef200b57984a",
            "99fb434c969a40209662af3ab50d292d",
            "5e99ac0d6fe74f58b4702f9c5dd06ada",
            "119fbb97810b4d928df4a3a45d9b4b63"
          ]
        },
        "id": "5pYDN1zjQzoI",
        "outputId": "913151eb-cdb5-4f65-98e8-b99ce487c671"
      },
      "outputs": [
        {
          "name": "stdout",
          "output_type": "stream",
          "text": [
            "Returned value: 1\n"
          ]
        },
        {
          "data": {
            "application/vnd.jupyter.widget-view+json": {
              "model_id": "96bebffc074d42c8a02ff8fb57bd2459",
              "version_major": 2,
              "version_minor": 0
            },
            "text/plain": [
              "  0%|          | 0/1000 [00:00<?, ?it/s]"
            ]
          },
          "metadata": {},
          "output_type": "display_data"
        },
        {
          "name": "stdout",
          "output_type": "stream",
          "text": [
            "Returned value: 3\n"
          ]
        },
        {
          "data": {
            "application/vnd.jupyter.widget-view+json": {
              "model_id": "4f17a830838c4d8fb1a2f51447154279",
              "version_major": 2,
              "version_minor": 0
            },
            "text/plain": [
              "  0%|          | 0/1000 [00:00<?, ?it/s]"
            ]
          },
          "metadata": {},
          "output_type": "display_data"
        },
        {
          "name": "stdout",
          "output_type": "stream",
          "text": [
            "Returned value: 2\n"
          ]
        },
        {
          "data": {
            "application/vnd.jupyter.widget-view+json": {
              "model_id": "9534063e12e9445b98f3b61c5af2f725",
              "version_major": 2,
              "version_minor": 0
            },
            "text/plain": [
              "  0%|          | 0/1000 [00:00<?, ?it/s]"
            ]
          },
          "metadata": {},
          "output_type": "display_data"
        },
        {
          "name": "stdout",
          "output_type": "stream",
          "text": [
            "Returned value: 2\n"
          ]
        },
        {
          "data": {
            "application/vnd.jupyter.widget-view+json": {
              "model_id": "662a11c09cd647f99ad86e76c0d1d65d",
              "version_major": 2,
              "version_minor": 0
            },
            "text/plain": [
              "  0%|          | 0/1000 [00:00<?, ?it/s]"
            ]
          },
          "metadata": {},
          "output_type": "display_data"
        }
      ],
      "source": [
        "samples = [sample]\n",
        "\n",
        "for i in range(4):\n",
        "    sample = bandit.trigger(0) + cost\n",
        "    print(\"Returned value:\", sample)\n",
        "\n",
        "    for loc in tqdm(range(1000)):\n",
        "        for scale in range(1000):\n",
        "            # not wasting time on 0\n",
        "            if probabilities[loc, scale]:\n",
        "                probabilities[loc, scale] *= stats.randint.pmf(sample, loc, loc + 1 + scale)\n",
        "\n",
        "    samples.append(sample)"
      ]
    },
    {
      "cell_type": "code",
      "execution_count": 841,
      "metadata": {
        "id": "t34piQuYQ7oL"
      },
      "outputs": [],
      "source": [
        "real_probas = probabilities / probabilities.sum()\n",
        "\n",
        "expected_mean_dict = {}\n",
        "\n",
        "for loc in range(1000):\n",
        "    for scale in range(1000):\n",
        "        mean = loc + scale / 2\n",
        "        # in case met first time\n",
        "        current_proba = expected_mean_dict.get(mean, 0)\n",
        "        expected_mean_dict[mean] = current_proba + real_probas[loc, scale]"
      ]
    },
    {
      "cell_type": "code",
      "execution_count": 842,
      "metadata": {
        "colab": {
          "base_uri": "https://localhost:8080/",
          "height": 225
        },
        "id": "2KLEDod-Q38A",
        "outputId": "a7c7484e-ac96-4001-fd8b-bc167acf5573"
      },
      "outputs": [
        {
          "data": {
            "image/png": "[encoded data removed]",
            "text/plain": [
              "<Figure size 1000x300 with 1 Axes>"
            ]
          },
          "metadata": {},
          "output_type": "display_data"
        }
      ],
      "source": [
        "mean_proba_pairs = list(expected_mean_dict.items())\n",
        "mean_proba_pairs = np.array(sorted(mean_proba_pairs, key = lambda x: x[0]))\n",
        "\n",
        "plt.figure(figsize = (10, 3))#, dpi = 300)\n",
        "plt.plot(mean_proba_pairs[:, 0], mean_proba_pairs[:, 1])\n",
        "plt.xlim([0, 100])\n",
        "plt.xlabel(\"Expectation\")\n",
        "plt.ylabel(\"P(Expectation)\")\n",
        "plt.show()"
      ]
    },
    {
      "cell_type": "code",
      "execution_count": 843,
      "metadata": {
        "colab": {
          "base_uri": "https://localhost:8080/"
        },
        "id": "qFMKWbfCRAXX",
        "outputId": "8d4e6fc6-c580-4b3c-9a9c-f5f8f6606bb5"
      },
      "outputs": [
        {
          "name": "stdout",
          "output_type": "stream",
          "text": [
            "Mean expectation =  3.0487\n"
          ]
        }
      ],
      "source": [
        "mean_expectation = (real_probas * mean_matrix).sum()\n",
        "print(\"Mean expectation = \", round(mean_expectation, 4))"
      ]
    },
    {
      "cell_type": "markdown",
      "metadata": {
        "id": "KJv9N7UFUdsR"
      },
      "source": [
        "## Task (Optional)"
      ]
    },
    {
      "cell_type": "markdown",
      "metadata": {
        "id": "BnzfnGr_UiFo"
      },
      "source": [
        "Create the best possible prior for existing initialization of distributions (when `distributions` is `None`). Explain why ypou suppose that prior you found is the best given initialisation schema. \n",
        "\n",
        "Generate 10 one-handed bandits and for each of them perform 100 steps of mean approximation using 3 priors:\n",
        "1. The best one\n",
        "2. Inverse loc \n",
        "3. Uniform prior\n",
        "\n",
        "Plot an approximation error for the expectation (MAE) at each of 100 steps for all the 3 priors. Draw a single plot, aggregating errors at steps (by mean) from all 10 bandits. "
      ]
    },
    {
      "cell_type": "markdown",
      "metadata": {
        "id": "0wCSq2_LQzEn"
      },
      "source": [
        "## Bayesian Upper Confidence Bound"
      ]
    },
    {
      "cell_type": "code",
      "execution_count": 844,
      "metadata": {
        "id": "LLVByjxATXyQ"
      },
      "outputs": [],
      "source": [
        "from tqdm import tqdm"
      ]
    },
    {
      "cell_type": "code",
      "execution_count": 845,
      "metadata": {
        "id": "TxhidC-1TZ3_"
      },
      "outputs": [],
      "source": [
        "bandit = UniformMultiArmedBandit(4, costs = [0] * 4)\n",
        "n_arms = 4"
      ]
    },
    {
      "cell_type": "code",
      "execution_count": 846,
      "metadata": {
        "id": "iSx0QU2qS76o"
      },
      "outputs": [],
      "source": [
        "prior_probabilities = np.zeros((4, 1000, 1000))\n",
        "for i in range(1000):\n",
        "    prior_probabilities[:, i, :] = 1 / (i+1)"
      ]
    },
    {
      "cell_type": "code",
      "execution_count": 847,
      "metadata": {
        "id": "0FBQJleLTKv4"
      },
      "outputs": [],
      "source": [
        "rewards = [[bandit.trigger(i)] for i in range(n_arms)]"
      ]
    },
    {
      "cell_type": "code",
      "execution_count": 848,
      "metadata": {
        "colab": {
          "base_uri": "https://localhost:8080/"
        },
        "id": "3SX8UwO-TLon",
        "outputId": "cd404975-cc83-45ec-959e-102e249255b8"
      },
      "outputs": [
        {
          "name": "stderr",
          "output_type": "stream",
          "text": [
            "100%|██████████| 1000/1000 [00:36<00:00, 27.51it/s]\n",
            "100%|██████████| 1000/1000 [00:36<00:00, 27.63it/s]\n",
            "100%|██████████| 1000/1000 [00:36<00:00, 27.18it/s]\n",
            "100%|██████████| 1000/1000 [00:36<00:00, 27.77it/s]\n"
          ]
        }
      ],
      "source": [
        "for i in range(4):\n",
        "    for loc in tqdm(range(1000)):\n",
        "        for scale in range(1000):\n",
        "            prior_probabilities[i, loc, scale] *= stats.randint.pmf(rewards[i], loc, loc + 1 + scale)"
      ]
    },
    {
      "cell_type": "code",
      "execution_count": 849,
      "metadata": {
        "id": "5rufXKBWSWFQ"
      },
      "outputs": [],
      "source": [
        "# mean matrix is common\n",
        "mean_matrix = np.zeros((1000, 1000))\n",
        "for loc in range(1000):\n",
        "    for scale in range(1000):\n",
        "        mean_matrix[loc, scale] = loc + scale / 2\n",
        "\n",
        "\n",
        "def bayesian_policy(probas, n_arms = 4, c = 1):\n",
        "    upper_bounds = []\n",
        "    mean_expectations = []\n",
        "    # computing mean expectation and std\n",
        "    for i in range(n_arms):\n",
        "        # computing proba for each mean\n",
        "        real_probas = probas[i] / probas[i].sum()\n",
        "\n",
        "        # mean expectation\n",
        "        mean_expectation = (real_probas * mean_matrix).sum()\n",
        "        # expectation of square - square of expectation\n",
        "        variance = mean_matrix**2 * real_probas - mean_expectation**2\n",
        "        std = variance ** 0.5\n",
        "\n",
        "        mean_expectations.append(mean_expectation)\n",
        "        upper_bounds.append(mean_expectation + c * std)\n",
        "\n",
        "    return np.argmax(upper_bounds), mean_expectations[np.argmax(upper_bounds)]\n",
        "\n",
        "def update_prediction(probas, arm_id, sample):\n",
        "    for loc in range(1000):\n",
        "        for scale in range(1000):\n",
        "            # not wasting time on 0\n",
        "            if probas[arm_id, loc, scale]:\n",
        "                probas[arm_id, loc, scale] *= stats.randint.pmf(sample, loc, loc + 1 + scale)"
      ]
    },
    {
      "cell_type": "code",
      "execution_count": 850,
      "metadata": {
        "colab": {
          "base_uri": "https://localhost:8080/"
        },
        "id": "mYGCKVxtSLER",
        "outputId": "d07d03f5-edc9-4017-bd82-948de40d149a"
      },
      "outputs": [
        {
          "name": "stderr",
          "output_type": "stream",
          "text": [
            "  0%|          | 0/100 [00:00<?, ?it/s]C:\\Users\\kadav\\AppData\\Local\\Temp\\ipykernel_18952\\3869008625.py:20: RuntimeWarning: invalid value encountered in sqrt\n",
            "  std = variance ** 0.5\n",
            "100%|██████████| 100/100 [00:59<00:00,  1.67it/s]\n"
          ]
        }
      ],
      "source": [
        "# mean reward for each arm\n",
        "actual_means = [arm.distribution.mean() - arm.cost for arm in bandit.arms]\n",
        "# max mean reward\n",
        "real_max_exp = max(actual_means)\n",
        "\n",
        "estimated_mean_policy = []\n",
        "real_mean_policy = []\n",
        "\n",
        "N = 100\n",
        "\n",
        "for i in tqdm(range(N)):\n",
        "    # choosing an action\n",
        "    action, expectation = bayesian_policy(prior_probabilities, 4, 10)\n",
        "    reward = bandit.trigger(action)\n",
        "    # updating prediction\n",
        "    update_prediction(prior_probabilities, action, reward)\n",
        "\n",
        "    # recording the results\n",
        "    estimated_mean_policy.append(expectation)\n",
        "    rewards[action].append(reward)\n",
        "    real_mean_policy.append(actual_means[action])"
      ]
    },
    {
      "cell_type": "code",
      "execution_count": 851,
      "metadata": {
        "colab": {
          "base_uri": "https://localhost:8080/",
          "height": 225
        },
        "id": "hRPk19ZBa7Xo",
        "outputId": "8a14f3ac-5e3d-4c59-b3c5-6f3d5fa4505f"
      },
      "outputs": [
        {
          "data": {
            "image/png": "[encoded data removed]",
            "text/plain": [
              "<Figure size 1000x300 with 1 Axes>"
            ]
          },
          "metadata": {},
          "output_type": "display_data"
        }
      ],
      "source": [
        "plt.figure(figsize = (10, 3))#, dpi = 300)\n",
        "plt.plot(np.arange(N), [real_max_exp] * N, )\n",
        "plt.plot(np.arange(N), estimated_mean_policy)\n",
        "plt.plot(np.arange(N), real_mean_policy)\n",
        "plt.xlabel(\"Timestamp\")\n",
        "plt.ylabel(\"Value\")\n",
        "plt.legend(['Real max mean', 'Estimated mean by policy', 'Real mean by policy'])\n",
        "plt.show()"
      ]
    },
    {
      "cell_type": "code",
      "execution_count": 852,
      "metadata": {
        "colab": {
          "base_uri": "https://localhost:8080/",
          "height": 225
        },
        "id": "SPR_RaawZ8rD",
        "outputId": "62061d2f-79ab-4c8a-ce21-781ef99e830a"
      },
      "outputs": [
        {
          "data": {
            "image/png": "[encoded data removed]",
            "text/plain": [
              "<Figure size 1000x300 with 1 Axes>"
            ]
          },
          "metadata": {},
          "output_type": "display_data"
        }
      ],
      "source": [
        "plt.figure(figsize = (10, 3))#, dpi = 300)\n",
        "plt.plot(np.arange(10, N), [real_max_exp] * (N - 10))\n",
        "plt.plot(np.arange(10, N), estimated_mean_policy[10:])\n",
        "plt.plot(np.arange(10, N), real_mean_policy[10:])\n",
        "plt.xlabel(\"Timestamp\")\n",
        "plt.ylabel(\"Value\")\n",
        "plt.legend(['Real max mean', 'Estimated mean by policy', 'Real mean by policy'])\n",
        "plt.show()"
      ]
    }
  ],
  "metadata": {
    "colab": {
      "collapsed_sections": [
        "qE7NYfkJ5BnI",
        "fnpGA0F19YOw",
        "giwXZJkL84SQ",
        "jr6SBuoJ_4Lg",
        "8xGgpVSmCdCf",
        "2-mG3nDvDghW"
      ],
      "provenance": []
    },
    "kernelspec": {
      "display_name": "Python 3.10.8 64-bit (microsoft store)",
      "language": "python",
      "name": "python3"
    },
    "language_info": {
      "codemirror_mode": {
        "name": "ipython",
        "version": 3
      },
      "file_extension": ".py",
      "mimetype": "text/x-python",
      "name": "python",
      "nbconvert_exporter": "python",
      "pygments_lexer": "ipython3",
      "version": "3.10.8"
    },
    "vscode": {
      "interpreter": {
        "hash": "5a72086affac0942e77ca8d313fe7cee3cbeae03ce179ef0541d0335cc6ec24c"
      }
    },
    "widgets": {
      "application/vnd.jupyter.widget-state+json": {
        "014fd6fdd60e4830a5aba636d89aee15": {
          "model_module": "@jupyter-widgets/controls",
          "model_module_version": "1.5.0",
          "model_name": "DescriptionStyleModel",
          "state": {
            "_model_module": "@jupyter-widgets/controls",
            "_model_module_version": "1.5.0",
            "_model_name": "DescriptionStyleModel",
            "_view_count": null,
            "_view_module": "@jupyter-widgets/base",
            "_view_module_version": "1.2.0",
            "_view_name": "StyleView",
            "description_width": ""
          }
        },
        "023f72fc3d4b4566a5a17e2171c55fc3": {
          "model_module": "@jupyter-widgets/base",
          "model_module_version": "1.2.0",
          "model_name": "LayoutModel",
          "state": {
            "_model_module": "@jupyter-widgets/base",
            "_model_module_version": "1.2.0",
            "_model_name": "LayoutModel",
            "_view_count": null,
            "_view_module": "@jupyter-widgets/base",
            "_view_module_version": "1.2.0",
            "_view_name": "LayoutView",
            "align_content": null,
            "align_items": null,
            "align_self": null,
            "border": null,
            "bottom": null,
            "display": null,
            "flex": null,
            "flex_flow": null,
            "grid_area": null,
            "grid_auto_columns": null,
            "grid_auto_flow": null,
            "grid_auto_rows": null,
            "grid_column": null,
            "grid_gap": null,
            "grid_row": null,
            "grid_template_areas": null,
            "grid_template_columns": null,
            "grid_template_rows": null,
            "height": null,
            "justify_content": null,
            "justify_items": null,
            "left": null,
            "margin": null,
            "max_height": null,
            "max_width": null,
            "min_height": null,
            "min_width": null,
            "object_fit": null,
            "object_position": null,
            "order": null,
            "overflow": null,
            "overflow_x": null,
            "overflow_y": null,
            "padding": null,
            "right": null,
            "top": null,
            "visibility": null,
            "width": null
          }
        },
        "02e533cdb8954f29b001624e798f1944": {
          "model_module": "@jupyter-widgets/controls",
          "model_module_version": "1.5.0",
          "model_name": "HTMLModel",
          "state": {
            "_dom_classes": [],
            "_model_module": "@jupyter-widgets/controls",
            "_model_module_version": "1.5.0",
            "_model_name": "HTMLModel",
            "_view_count": null,
            "_view_module": "@jupyter-widgets/controls",
            "_view_module_version": "1.5.0",
            "_view_name": "HTMLView",
            "description": "",
            "description_tooltip": null,
            "layout": "IPY_MODEL_3b14eaad268547da9294d30fc468dbfc",
            "placeholder": "​",
            "style": "IPY_MODEL_6b6243cac9cd4f849f032478ed520afc",
            "value": " 1000/1000 [00:49&lt;00:00, 19.37it/s]"
          }
        },
        "043374c423c4488d8787169092e37737": {
          "model_module": "@jupyter-widgets/controls",
          "model_module_version": "1.5.0",
          "model_name": "ProgressStyleModel",
          "state": {
            "_model_module": "@jupyter-widgets/controls",
            "_model_module_version": "1.5.0",
            "_model_name": "ProgressStyleModel",
            "_view_count": null,
            "_view_module": "@jupyter-widgets/base",
            "_view_module_version": "1.2.0",
            "_view_name": "StyleView",
            "bar_color": null,
            "description_width": ""
          }
        },
        "067f96836ac74e9c82913da3a3b88a6b": {
          "model_module": "@jupyter-widgets/controls",
          "model_module_version": "1.5.0",
          "model_name": "DescriptionStyleModel",
          "state": {
            "_model_module": "@jupyter-widgets/controls",
            "_model_module_version": "1.5.0",
            "_model_name": "DescriptionStyleModel",
            "_view_count": null,
            "_view_module": "@jupyter-widgets/base",
            "_view_module_version": "1.2.0",
            "_view_name": "StyleView",
            "description_width": ""
          }
        },
        "07562b445f034af7a6fd7c9f060b758a": {
          "model_module": "@jupyter-widgets/controls",
          "model_module_version": "1.5.0",
          "model_name": "ProgressStyleModel",
          "state": {
            "_model_module": "@jupyter-widgets/controls",
            "_model_module_version": "1.5.0",
            "_model_name": "ProgressStyleModel",
            "_view_count": null,
            "_view_module": "@jupyter-widgets/base",
            "_view_module_version": "1.2.0",
            "_view_name": "StyleView",
            "bar_color": null,
            "description_width": ""
          }
        },
        "0e8f13e0df2f4c9f8fcbbb975726382e": {
          "model_module": "@jupyter-widgets/base",
          "model_module_version": "1.2.0",
          "model_name": "LayoutModel",
          "state": {
            "_model_module": "@jupyter-widgets/base",
            "_model_module_version": "1.2.0",
            "_model_name": "LayoutModel",
            "_view_count": null,
            "_view_module": "@jupyter-widgets/base",
            "_view_module_version": "1.2.0",
            "_view_name": "LayoutView",
            "align_content": null,
            "align_items": null,
            "align_self": null,
            "border": null,
            "bottom": null,
            "display": null,
            "flex": null,
            "flex_flow": null,
            "grid_area": null,
            "grid_auto_columns": null,
            "grid_auto_flow": null,
            "grid_auto_rows": null,
            "grid_column": null,
            "grid_gap": null,
            "grid_row": null,
            "grid_template_areas": null,
            "grid_template_columns": null,
            "grid_template_rows": null,
            "height": null,
            "justify_content": null,
            "justify_items": null,
            "left": null,
            "margin": null,
            "max_height": null,
            "max_width": null,
            "min_height": null,
            "min_width": null,
            "object_fit": null,
            "object_position": null,
            "order": null,
            "overflow": null,
            "overflow_x": null,
            "overflow_y": null,
            "padding": null,
            "right": null,
            "top": null,
            "visibility": null,
            "width": null
          }
        },
        "0efc0240e54c4890a85667e35008d1dd": {
          "model_module": "@jupyter-widgets/controls",
          "model_module_version": "1.5.0",
          "model_name": "HTMLModel",
          "state": {
            "_dom_classes": [],
            "_model_module": "@jupyter-widgets/controls",
            "_model_module_version": "1.5.0",
            "_model_name": "HTMLModel",
            "_view_count": null,
            "_view_module": "@jupyter-widgets/controls",
            "_view_module_version": "1.5.0",
            "_view_name": "HTMLView",
            "description": "",
            "description_tooltip": null,
            "layout": "IPY_MODEL_1b283d95413e4e21b01220ed31a3626e",
            "placeholder": "​",
            "style": "IPY_MODEL_4359ab58246b41e19651624ad0e2b19b",
            "value": " 1000/1000 [00:00&lt;00:00, 2167.19it/s]"
          }
        },
        "108801d6c2f043aa8590ccce4f5eaab0": {
          "model_module": "@jupyter-widgets/controls",
          "model_module_version": "1.5.0",
          "model_name": "FloatProgressModel",
          "state": {
            "_dom_classes": [],
            "_model_module": "@jupyter-widgets/controls",
            "_model_module_version": "1.5.0",
            "_model_name": "FloatProgressModel",
            "_view_count": null,
            "_view_module": "@jupyter-widgets/controls",
            "_view_module_version": "1.5.0",
            "_view_name": "ProgressView",
            "bar_style": "success",
            "description": "",
            "description_tooltip": null,
            "layout": "IPY_MODEL_9c963085ab184c91bc4cafdf830266f1",
            "max": 1000,
            "min": 0,
            "orientation": "horizontal",
            "style": "IPY_MODEL_6d92c04f8f5646b296555a5c49c6c5b8",
            "value": 1000
          }
        },
        "119fbb97810b4d928df4a3a45d9b4b63": {
          "model_module": "@jupyter-widgets/controls",
          "model_module_version": "1.5.0",
          "model_name": "DescriptionStyleModel",
          "state": {
            "_model_module": "@jupyter-widgets/controls",
            "_model_module_version": "1.5.0",
            "_model_name": "DescriptionStyleModel",
            "_view_count": null,
            "_view_module": "@jupyter-widgets/base",
            "_view_module_version": "1.2.0",
            "_view_name": "StyleView",
            "description_width": ""
          }
        },
        "129739f99a574c8ab361695196af70b3": {
          "model_module": "@jupyter-widgets/controls",
          "model_module_version": "1.5.0",
          "model_name": "DescriptionStyleModel",
          "state": {
            "_model_module": "@jupyter-widgets/controls",
            "_model_module_version": "1.5.0",
            "_model_name": "DescriptionStyleModel",
            "_view_count": null,
            "_view_module": "@jupyter-widgets/base",
            "_view_module_version": "1.2.0",
            "_view_name": "StyleView",
            "description_width": ""
          }
        },
        "193473d765774e81a8bbb921d31d059c": {
          "model_module": "@jupyter-widgets/controls",
          "model_module_version": "1.5.0",
          "model_name": "ProgressStyleModel",
          "state": {
            "_model_module": "@jupyter-widgets/controls",
            "_model_module_version": "1.5.0",
            "_model_name": "ProgressStyleModel",
            "_view_count": null,
            "_view_module": "@jupyter-widgets/base",
            "_view_module_version": "1.2.0",
            "_view_name": "StyleView",
            "bar_color": null,
            "description_width": ""
          }
        },
        "19d2efc990ef400c801423bf183e7f6d": {
          "model_module": "@jupyter-widgets/controls",
          "model_module_version": "1.5.0",
          "model_name": "HTMLModel",
          "state": {
            "_dom_classes": [],
            "_model_module": "@jupyter-widgets/controls",
            "_model_module_version": "1.5.0",
            "_model_name": "HTMLModel",
            "_view_count": null,
            "_view_module": "@jupyter-widgets/controls",
            "_view_module_version": "1.5.0",
            "_view_name": "HTMLView",
            "description": "",
            "description_tooltip": null,
            "layout": "IPY_MODEL_94f0ed44743d47918a8a13155c9daabe",
            "placeholder": "​",
            "style": "IPY_MODEL_c5cf1ab5004043ccbaf8d6302e50c606",
            "value": " 1000/1000 [00:00&lt;00:00, 1598.96it/s]"
          }
        },
        "1a2e0c07b3524a8980ee6865f95ca4b2": {
          "model_module": "@jupyter-widgets/controls",
          "model_module_version": "1.5.0",
          "model_name": "ProgressStyleModel",
          "state": {
            "_model_module": "@jupyter-widgets/controls",
            "_model_module_version": "1.5.0",
            "_model_name": "ProgressStyleModel",
            "_view_count": null,
            "_view_module": "@jupyter-widgets/base",
            "_view_module_version": "1.2.0",
            "_view_name": "StyleView",
            "bar_color": null,
            "description_width": ""
          }
        },
        "1b283d95413e4e21b01220ed31a3626e": {
          "model_module": "@jupyter-widgets/base",
          "model_module_version": "1.2.0",
          "model_name": "LayoutModel",
          "state": {
            "_model_module": "@jupyter-widgets/base",
            "_model_module_version": "1.2.0",
            "_model_name": "LayoutModel",
            "_view_count": null,
            "_view_module": "@jupyter-widgets/base",
            "_view_module_version": "1.2.0",
            "_view_name": "LayoutView",
            "align_content": null,
            "align_items": null,
            "align_self": null,
            "border": null,
            "bottom": null,
            "display": null,
            "flex": null,
            "flex_flow": null,
            "grid_area": null,
            "grid_auto_columns": null,
            "grid_auto_flow": null,
            "grid_auto_rows": null,
            "grid_column": null,
            "grid_gap": null,
            "grid_row": null,
            "grid_template_areas": null,
            "grid_template_columns": null,
            "grid_template_rows": null,
            "height": null,
            "justify_content": null,
            "justify_items": null,
            "left": null,
            "margin": null,
            "max_height": null,
            "max_width": null,
            "min_height": null,
            "min_width": null,
            "object_fit": null,
            "object_position": null,
            "order": null,
            "overflow": null,
            "overflow_x": null,
            "overflow_y": null,
            "padding": null,
            "right": null,
            "top": null,
            "visibility": null,
            "width": null
          }
        },
        "1b3139d422bf4ab8a0541666a82b6cf1": {
          "model_module": "@jupyter-widgets/controls",
          "model_module_version": "1.5.0",
          "model_name": "DescriptionStyleModel",
          "state": {
            "_model_module": "@jupyter-widgets/controls",
            "_model_module_version": "1.5.0",
            "_model_name": "DescriptionStyleModel",
            "_view_count": null,
            "_view_module": "@jupyter-widgets/base",
            "_view_module_version": "1.2.0",
            "_view_name": "StyleView",
            "description_width": ""
          }
        },
        "1c3b91a8081e48888de5cee7e2a5ff0b": {
          "model_module": "@jupyter-widgets/base",
          "model_module_version": "1.2.0",
          "model_name": "LayoutModel",
          "state": {
            "_model_module": "@jupyter-widgets/base",
            "_model_module_version": "1.2.0",
            "_model_name": "LayoutModel",
            "_view_count": null,
            "_view_module": "@jupyter-widgets/base",
            "_view_module_version": "1.2.0",
            "_view_name": "LayoutView",
            "align_content": null,
            "align_items": null,
            "align_self": null,
            "border": null,
            "bottom": null,
            "display": null,
            "flex": null,
            "flex_flow": null,
            "grid_area": null,
            "grid_auto_columns": null,
            "grid_auto_flow": null,
            "grid_auto_rows": null,
            "grid_column": null,
            "grid_gap": null,
            "grid_row": null,
            "grid_template_areas": null,
            "grid_template_columns": null,
            "grid_template_rows": null,
            "height": null,
            "justify_content": null,
            "justify_items": null,
            "left": null,
            "margin": null,
            "max_height": null,
            "max_width": null,
            "min_height": null,
            "min_width": null,
            "object_fit": null,
            "object_position": null,
            "order": null,
            "overflow": null,
            "overflow_x": null,
            "overflow_y": null,
            "padding": null,
            "right": null,
            "top": null,
            "visibility": null,
            "width": null
          }
        },
        "20dd714db2b7454b95e3f6f26713718a": {
          "model_module": "@jupyter-widgets/controls",
          "model_module_version": "1.5.0",
          "model_name": "DescriptionStyleModel",
          "state": {
            "_model_module": "@jupyter-widgets/controls",
            "_model_module_version": "1.5.0",
            "_model_name": "DescriptionStyleModel",
            "_view_count": null,
            "_view_module": "@jupyter-widgets/base",
            "_view_module_version": "1.2.0",
            "_view_name": "StyleView",
            "description_width": ""
          }
        },
        "25fc7f5ec516457ebefe5fc8ed467b9b": {
          "model_module": "@jupyter-widgets/base",
          "model_module_version": "1.2.0",
          "model_name": "LayoutModel",
          "state": {
            "_model_module": "@jupyter-widgets/base",
            "_model_module_version": "1.2.0",
            "_model_name": "LayoutModel",
            "_view_count": null,
            "_view_module": "@jupyter-widgets/base",
            "_view_module_version": "1.2.0",
            "_view_name": "LayoutView",
            "align_content": null,
            "align_items": null,
            "align_self": null,
            "border": null,
            "bottom": null,
            "display": null,
            "flex": null,
            "flex_flow": null,
            "grid_area": null,
            "grid_auto_columns": null,
            "grid_auto_flow": null,
            "grid_auto_rows": null,
            "grid_column": null,
            "grid_gap": null,
            "grid_row": null,
            "grid_template_areas": null,
            "grid_template_columns": null,
            "grid_template_rows": null,
            "height": null,
            "justify_content": null,
            "justify_items": null,
            "left": null,
            "margin": null,
            "max_height": null,
            "max_width": null,
            "min_height": null,
            "min_width": null,
            "object_fit": null,
            "object_position": null,
            "order": null,
            "overflow": null,
            "overflow_x": null,
            "overflow_y": null,
            "padding": null,
            "right": null,
            "top": null,
            "visibility": null,
            "width": null
          }
        },
        "2890293226a248e89aadd4bfadf89986": {
          "model_module": "@jupyter-widgets/controls",
          "model_module_version": "1.5.0",
          "model_name": "HTMLModel",
          "state": {
            "_dom_classes": [],
            "_model_module": "@jupyter-widgets/controls",
            "_model_module_version": "1.5.0",
            "_model_name": "HTMLModel",
            "_view_count": null,
            "_view_module": "@jupyter-widgets/controls",
            "_view_module_version": "1.5.0",
            "_view_name": "HTMLView",
            "description": "",
            "description_tooltip": null,
            "layout": "IPY_MODEL_ff7d6f0cfbfc4d4dbd900d86ddd5cfb3",
            "placeholder": "​",
            "style": "IPY_MODEL_c1e357ecddd44e75b5ee7ee4d6d146a8",
            "value": "100%"
          }
        },
        "289df458c59a49f6b0e1b2527620998c": {
          "model_module": "@jupyter-widgets/base",
          "model_module_version": "1.2.0",
          "model_name": "LayoutModel",
          "state": {
            "_model_module": "@jupyter-widgets/base",
            "_model_module_version": "1.2.0",
            "_model_name": "LayoutModel",
            "_view_count": null,
            "_view_module": "@jupyter-widgets/base",
            "_view_module_version": "1.2.0",
            "_view_name": "LayoutView",
            "align_content": null,
            "align_items": null,
            "align_self": null,
            "border": null,
            "bottom": null,
            "display": null,
            "flex": null,
            "flex_flow": null,
            "grid_area": null,
            "grid_auto_columns": null,
            "grid_auto_flow": null,
            "grid_auto_rows": null,
            "grid_column": null,
            "grid_gap": null,
            "grid_row": null,
            "grid_template_areas": null,
            "grid_template_columns": null,
            "grid_template_rows": null,
            "height": null,
            "justify_content": null,
            "justify_items": null,
            "left": null,
            "margin": null,
            "max_height": null,
            "max_width": null,
            "min_height": null,
            "min_width": null,
            "object_fit": null,
            "object_position": null,
            "order": null,
            "overflow": null,
            "overflow_x": null,
            "overflow_y": null,
            "padding": null,
            "right": null,
            "top": null,
            "visibility": null,
            "width": null
          }
        },
        "29b0e1c8b9b94260a2b8629a4ab8955a": {
          "model_module": "@jupyter-widgets/base",
          "model_module_version": "1.2.0",
          "model_name": "LayoutModel",
          "state": {
            "_model_module": "@jupyter-widgets/base",
            "_model_module_version": "1.2.0",
            "_model_name": "LayoutModel",
            "_view_count": null,
            "_view_module": "@jupyter-widgets/base",
            "_view_module_version": "1.2.0",
            "_view_name": "LayoutView",
            "align_content": null,
            "align_items": null,
            "align_self": null,
            "border": null,
            "bottom": null,
            "display": null,
            "flex": null,
            "flex_flow": null,
            "grid_area": null,
            "grid_auto_columns": null,
            "grid_auto_flow": null,
            "grid_auto_rows": null,
            "grid_column": null,
            "grid_gap": null,
            "grid_row": null,
            "grid_template_areas": null,
            "grid_template_columns": null,
            "grid_template_rows": null,
            "height": null,
            "justify_content": null,
            "justify_items": null,
            "left": null,
            "margin": null,
            "max_height": null,
            "max_width": null,
            "min_height": null,
            "min_width": null,
            "object_fit": null,
            "object_position": null,
            "order": null,
            "overflow": null,
            "overflow_x": null,
            "overflow_y": null,
            "padding": null,
            "right": null,
            "top": null,
            "visibility": null,
            "width": null
          }
        },
        "2e71d7eae8e74e9d8029728aa829bbb5": {
          "model_module": "@jupyter-widgets/base",
          "model_module_version": "1.2.0",
          "model_name": "LayoutModel",
          "state": {
            "_model_module": "@jupyter-widgets/base",
            "_model_module_version": "1.2.0",
            "_model_name": "LayoutModel",
            "_view_count": null,
            "_view_module": "@jupyter-widgets/base",
            "_view_module_version": "1.2.0",
            "_view_name": "LayoutView",
            "align_content": null,
            "align_items": null,
            "align_self": null,
            "border": null,
            "bottom": null,
            "display": null,
            "flex": null,
            "flex_flow": null,
            "grid_area": null,
            "grid_auto_columns": null,
            "grid_auto_flow": null,
            "grid_auto_rows": null,
            "grid_column": null,
            "grid_gap": null,
            "grid_row": null,
            "grid_template_areas": null,
            "grid_template_columns": null,
            "grid_template_rows": null,
            "height": null,
            "justify_content": null,
            "justify_items": null,
            "left": null,
            "margin": null,
            "max_height": null,
            "max_width": null,
            "min_height": null,
            "min_width": null,
            "object_fit": null,
            "object_position": null,
            "order": null,
            "overflow": null,
            "overflow_x": null,
            "overflow_y": null,
            "padding": null,
            "right": null,
            "top": null,
            "visibility": null,
            "width": null
          }
        },
        "32af8efba7ff467c823be765e22ece81": {
          "model_module": "@jupyter-widgets/controls",
          "model_module_version": "1.5.0",
          "model_name": "HTMLModel",
          "state": {
            "_dom_classes": [],
            "_model_module": "@jupyter-widgets/controls",
            "_model_module_version": "1.5.0",
            "_model_name": "HTMLModel",
            "_view_count": null,
            "_view_module": "@jupyter-widgets/controls",
            "_view_module_version": "1.5.0",
            "_view_name": "HTMLView",
            "description": "",
            "description_tooltip": null,
            "layout": "IPY_MODEL_7d8232424d0f4999a6dcb89bc728b190",
            "placeholder": "​",
            "style": "IPY_MODEL_129739f99a574c8ab361695196af70b3",
            "value": " 1000/1000 [00:00&lt;00:00, 2320.25it/s]"
          }
        },
        "3336e58576c74dfbbb55e3fd62d9e869": {
          "model_module": "@jupyter-widgets/controls",
          "model_module_version": "1.5.0",
          "model_name": "DescriptionStyleModel",
          "state": {
            "_model_module": "@jupyter-widgets/controls",
            "_model_module_version": "1.5.0",
            "_model_name": "DescriptionStyleModel",
            "_view_count": null,
            "_view_module": "@jupyter-widgets/base",
            "_view_module_version": "1.2.0",
            "_view_name": "StyleView",
            "description_width": ""
          }
        },
        "3344547053a74088807d1d66430d0c95": {
          "model_module": "@jupyter-widgets/base",
          "model_module_version": "1.2.0",
          "model_name": "LayoutModel",
          "state": {
            "_model_module": "@jupyter-widgets/base",
            "_model_module_version": "1.2.0",
            "_model_name": "LayoutModel",
            "_view_count": null,
            "_view_module": "@jupyter-widgets/base",
            "_view_module_version": "1.2.0",
            "_view_name": "LayoutView",
            "align_content": null,
            "align_items": null,
            "align_self": null,
            "border": null,
            "bottom": null,
            "display": null,
            "flex": null,
            "flex_flow": null,
            "grid_area": null,
            "grid_auto_columns": null,
            "grid_auto_flow": null,
            "grid_auto_rows": null,
            "grid_column": null,
            "grid_gap": null,
            "grid_row": null,
            "grid_template_areas": null,
            "grid_template_columns": null,
            "grid_template_rows": null,
            "height": null,
            "justify_content": null,
            "justify_items": null,
            "left": null,
            "margin": null,
            "max_height": null,
            "max_width": null,
            "min_height": null,
            "min_width": null,
            "object_fit": null,
            "object_position": null,
            "order": null,
            "overflow": null,
            "overflow_x": null,
            "overflow_y": null,
            "padding": null,
            "right": null,
            "top": null,
            "visibility": null,
            "width": null
          }
        },
        "3421dc1c639c4c5ca8a5c9dafe552c61": {
          "model_module": "@jupyter-widgets/controls",
          "model_module_version": "1.5.0",
          "model_name": "HBoxModel",
          "state": {
            "_dom_classes": [],
            "_model_module": "@jupyter-widgets/controls",
            "_model_module_version": "1.5.0",
            "_model_name": "HBoxModel",
            "_view_count": null,
            "_view_module": "@jupyter-widgets/controls",
            "_view_module_version": "1.5.0",
            "_view_name": "HBoxView",
            "box_style": "",
            "children": [
              "IPY_MODEL_c4b7e6b3ab07498d807bc02a2a9511e9",
              "IPY_MODEL_51ee01b497a143888e64d4761b8efd48",
              "IPY_MODEL_cd4013e62dad41a094d7486706161f62"
            ],
            "layout": "IPY_MODEL_bee123ee1e0e462db663b19c3444d46f"
          }
        },
        "3b14eaad268547da9294d30fc468dbfc": {
          "model_module": "@jupyter-widgets/base",
          "model_module_version": "1.2.0",
          "model_name": "LayoutModel",
          "state": {
            "_model_module": "@jupyter-widgets/base",
            "_model_module_version": "1.2.0",
            "_model_name": "LayoutModel",
            "_view_count": null,
            "_view_module": "@jupyter-widgets/base",
            "_view_module_version": "1.2.0",
            "_view_name": "LayoutView",
            "align_content": null,
            "align_items": null,
            "align_self": null,
            "border": null,
            "bottom": null,
            "display": null,
            "flex": null,
            "flex_flow": null,
            "grid_area": null,
            "grid_auto_columns": null,
            "grid_auto_flow": null,
            "grid_auto_rows": null,
            "grid_column": null,
            "grid_gap": null,
            "grid_row": null,
            "grid_template_areas": null,
            "grid_template_columns": null,
            "grid_template_rows": null,
            "height": null,
            "justify_content": null,
            "justify_items": null,
            "left": null,
            "margin": null,
            "max_height": null,
            "max_width": null,
            "min_height": null,
            "min_width": null,
            "object_fit": null,
            "object_position": null,
            "order": null,
            "overflow": null,
            "overflow_x": null,
            "overflow_y": null,
            "padding": null,
            "right": null,
            "top": null,
            "visibility": null,
            "width": null
          }
        },
        "3f0809503ebe4b15a18d1237b75ba3e1": {
          "model_module": "@jupyter-widgets/controls",
          "model_module_version": "1.5.0",
          "model_name": "HBoxModel",
          "state": {
            "_dom_classes": [],
            "_model_module": "@jupyter-widgets/controls",
            "_model_module_version": "1.5.0",
            "_model_name": "HBoxModel",
            "_view_count": null,
            "_view_module": "@jupyter-widgets/controls",
            "_view_module_version": "1.5.0",
            "_view_name": "HBoxView",
            "box_style": "",
            "children": [
              "IPY_MODEL_2890293226a248e89aadd4bfadf89986",
              "IPY_MODEL_a7599e89e8764caa9ab22934a361abe6",
              "IPY_MODEL_19d2efc990ef400c801423bf183e7f6d"
            ],
            "layout": "IPY_MODEL_289df458c59a49f6b0e1b2527620998c"
          }
        },
        "3f221d44d16741d28afa712292ce981b": {
          "model_module": "@jupyter-widgets/controls",
          "model_module_version": "1.5.0",
          "model_name": "DescriptionStyleModel",
          "state": {
            "_model_module": "@jupyter-widgets/controls",
            "_model_module_version": "1.5.0",
            "_model_name": "DescriptionStyleModel",
            "_view_count": null,
            "_view_module": "@jupyter-widgets/base",
            "_view_module_version": "1.2.0",
            "_view_name": "StyleView",
            "description_width": ""
          }
        },
        "403093ea61de4838985665682c956840": {
          "model_module": "@jupyter-widgets/controls",
          "model_module_version": "1.5.0",
          "model_name": "HBoxModel",
          "state": {
            "_dom_classes": [],
            "_model_module": "@jupyter-widgets/controls",
            "_model_module_version": "1.5.0",
            "_model_name": "HBoxModel",
            "_view_count": null,
            "_view_module": "@jupyter-widgets/controls",
            "_view_module_version": "1.5.0",
            "_view_name": "HBoxView",
            "box_style": "",
            "children": [
              "IPY_MODEL_dd46da81c141446eab091f3f5ea8273e",
              "IPY_MODEL_c818d5a41776407ca26e23854f724e6e",
              "IPY_MODEL_a7e8f0b8b166495c942e99ebb7a04979"
            ],
            "layout": "IPY_MODEL_b050a98a748346a9953874eba1779595"
          }
        },
        "4359ab58246b41e19651624ad0e2b19b": {
          "model_module": "@jupyter-widgets/controls",
          "model_module_version": "1.5.0",
          "model_name": "DescriptionStyleModel",
          "state": {
            "_model_module": "@jupyter-widgets/controls",
            "_model_module_version": "1.5.0",
            "_model_name": "DescriptionStyleModel",
            "_view_count": null,
            "_view_module": "@jupyter-widgets/base",
            "_view_module_version": "1.2.0",
            "_view_name": "StyleView",
            "description_width": ""
          }
        },
        "45d4be59a4ef40efb9596221137d657d": {
          "model_module": "@jupyter-widgets/base",
          "model_module_version": "1.2.0",
          "model_name": "LayoutModel",
          "state": {
            "_model_module": "@jupyter-widgets/base",
            "_model_module_version": "1.2.0",
            "_model_name": "LayoutModel",
            "_view_count": null,
            "_view_module": "@jupyter-widgets/base",
            "_view_module_version": "1.2.0",
            "_view_name": "LayoutView",
            "align_content": null,
            "align_items": null,
            "align_self": null,
            "border": null,
            "bottom": null,
            "display": null,
            "flex": null,
            "flex_flow": null,
            "grid_area": null,
            "grid_auto_columns": null,
            "grid_auto_flow": null,
            "grid_auto_rows": null,
            "grid_column": null,
            "grid_gap": null,
            "grid_row": null,
            "grid_template_areas": null,
            "grid_template_columns": null,
            "grid_template_rows": null,
            "height": null,
            "justify_content": null,
            "justify_items": null,
            "left": null,
            "margin": null,
            "max_height": null,
            "max_width": null,
            "min_height": null,
            "min_width": null,
            "object_fit": null,
            "object_position": null,
            "order": null,
            "overflow": null,
            "overflow_x": null,
            "overflow_y": null,
            "padding": null,
            "right": null,
            "top": null,
            "visibility": null,
            "width": null
          }
        },
        "486f2667ee43482da7cb5cef8ed2d27d": {
          "model_module": "@jupyter-widgets/controls",
          "model_module_version": "1.5.0",
          "model_name": "ProgressStyleModel",
          "state": {
            "_model_module": "@jupyter-widgets/controls",
            "_model_module_version": "1.5.0",
            "_model_name": "ProgressStyleModel",
            "_view_count": null,
            "_view_module": "@jupyter-widgets/base",
            "_view_module_version": "1.2.0",
            "_view_name": "StyleView",
            "bar_color": null,
            "description_width": ""
          }
        },
        "4b00ed8e7f7d4f4885ace4aeeefb5239": {
          "model_module": "@jupyter-widgets/controls",
          "model_module_version": "1.5.0",
          "model_name": "FloatProgressModel",
          "state": {
            "_dom_classes": [],
            "_model_module": "@jupyter-widgets/controls",
            "_model_module_version": "1.5.0",
            "_model_name": "FloatProgressModel",
            "_view_count": null,
            "_view_module": "@jupyter-widgets/controls",
            "_view_module_version": "1.5.0",
            "_view_name": "ProgressView",
            "bar_style": "success",
            "description": "",
            "description_tooltip": null,
            "layout": "IPY_MODEL_45d4be59a4ef40efb9596221137d657d",
            "max": 1000,
            "min": 0,
            "orientation": "horizontal",
            "style": "IPY_MODEL_9501f460fec64c888ff7131cbdd8539b",
            "value": 1000
          }
        },
        "4d55aba0740b4550a93d255343672d6a": {
          "model_module": "@jupyter-widgets/controls",
          "model_module_version": "1.5.0",
          "model_name": "FloatProgressModel",
          "state": {
            "_dom_classes": [],
            "_model_module": "@jupyter-widgets/controls",
            "_model_module_version": "1.5.0",
            "_model_name": "FloatProgressModel",
            "_view_count": null,
            "_view_module": "@jupyter-widgets/controls",
            "_view_module_version": "1.5.0",
            "_view_name": "ProgressView",
            "bar_style": "success",
            "description": "",
            "description_tooltip": null,
            "layout": "IPY_MODEL_7e5c54eb48324f0aa5d79e769b776378",
            "max": 1000,
            "min": 0,
            "orientation": "horizontal",
            "style": "IPY_MODEL_193473d765774e81a8bbb921d31d059c",
            "value": 1000
          }
        },
        "502476d60fc04aec813f6e1beed18e8b": {
          "model_module": "@jupyter-widgets/controls",
          "model_module_version": "1.5.0",
          "model_name": "HTMLModel",
          "state": {
            "_dom_classes": [],
            "_model_module": "@jupyter-widgets/controls",
            "_model_module_version": "1.5.0",
            "_model_name": "HTMLModel",
            "_view_count": null,
            "_view_module": "@jupyter-widgets/controls",
            "_view_module_version": "1.5.0",
            "_view_name": "HTMLView",
            "description": "",
            "description_tooltip": null,
            "layout": "IPY_MODEL_25fc7f5ec516457ebefe5fc8ed467b9b",
            "placeholder": "​",
            "style": "IPY_MODEL_963bed8ddb254949b6fd41b735f42cc5",
            "value": "100%"
          }
        },
        "51ee01b497a143888e64d4761b8efd48": {
          "model_module": "@jupyter-widgets/controls",
          "model_module_version": "1.5.0",
          "model_name": "FloatProgressModel",
          "state": {
            "_dom_classes": [],
            "_model_module": "@jupyter-widgets/controls",
            "_model_module_version": "1.5.0",
            "_model_name": "FloatProgressModel",
            "_view_count": null,
            "_view_module": "@jupyter-widgets/controls",
            "_view_module_version": "1.5.0",
            "_view_name": "ProgressView",
            "bar_style": "success",
            "description": "",
            "description_tooltip": null,
            "layout": "IPY_MODEL_da2ffd5116ba4be38778ef200b57984a",
            "max": 1000,
            "min": 0,
            "orientation": "horizontal",
            "style": "IPY_MODEL_99fb434c969a40209662af3ab50d292d",
            "value": 1000
          }
        },
        "54bd9b81965c4059ac4cfe8d7c70dced": {
          "model_module": "@jupyter-widgets/base",
          "model_module_version": "1.2.0",
          "model_name": "LayoutModel",
          "state": {
            "_model_module": "@jupyter-widgets/base",
            "_model_module_version": "1.2.0",
            "_model_name": "LayoutModel",
            "_view_count": null,
            "_view_module": "@jupyter-widgets/base",
            "_view_module_version": "1.2.0",
            "_view_name": "LayoutView",
            "align_content": null,
            "align_items": null,
            "align_self": null,
            "border": null,
            "bottom": null,
            "display": null,
            "flex": null,
            "flex_flow": null,
            "grid_area": null,
            "grid_auto_columns": null,
            "grid_auto_flow": null,
            "grid_auto_rows": null,
            "grid_column": null,
            "grid_gap": null,
            "grid_row": null,
            "grid_template_areas": null,
            "grid_template_columns": null,
            "grid_template_rows": null,
            "height": null,
            "justify_content": null,
            "justify_items": null,
            "left": null,
            "margin": null,
            "max_height": null,
            "max_width": null,
            "min_height": null,
            "min_width": null,
            "object_fit": null,
            "object_position": null,
            "order": null,
            "overflow": null,
            "overflow_x": null,
            "overflow_y": null,
            "padding": null,
            "right": null,
            "top": null,
            "visibility": null,
            "width": null
          }
        },
        "5572d5630d234d2bbefe3a75e4a661c9": {
          "model_module": "@jupyter-widgets/base",
          "model_module_version": "1.2.0",
          "model_name": "LayoutModel",
          "state": {
            "_model_module": "@jupyter-widgets/base",
            "_model_module_version": "1.2.0",
            "_model_name": "LayoutModel",
            "_view_count": null,
            "_view_module": "@jupyter-widgets/base",
            "_view_module_version": "1.2.0",
            "_view_name": "LayoutView",
            "align_content": null,
            "align_items": null,
            "align_self": null,
            "border": null,
            "bottom": null,
            "display": null,
            "flex": null,
            "flex_flow": null,
            "grid_area": null,
            "grid_auto_columns": null,
            "grid_auto_flow": null,
            "grid_auto_rows": null,
            "grid_column": null,
            "grid_gap": null,
            "grid_row": null,
            "grid_template_areas": null,
            "grid_template_columns": null,
            "grid_template_rows": null,
            "height": null,
            "justify_content": null,
            "justify_items": null,
            "left": null,
            "margin": null,
            "max_height": null,
            "max_width": null,
            "min_height": null,
            "min_width": null,
            "object_fit": null,
            "object_position": null,
            "order": null,
            "overflow": null,
            "overflow_x": null,
            "overflow_y": null,
            "padding": null,
            "right": null,
            "top": null,
            "visibility": null,
            "width": null
          }
        },
        "55dbb127941243e4951f0723d1f0c3e3": {
          "model_module": "@jupyter-widgets/controls",
          "model_module_version": "1.5.0",
          "model_name": "ProgressStyleModel",
          "state": {
            "_model_module": "@jupyter-widgets/controls",
            "_model_module_version": "1.5.0",
            "_model_name": "ProgressStyleModel",
            "_view_count": null,
            "_view_module": "@jupyter-widgets/base",
            "_view_module_version": "1.2.0",
            "_view_name": "StyleView",
            "bar_color": null,
            "description_width": ""
          }
        },
        "59bb326b81ba47be9020fb8ba4ca4fb0": {
          "model_module": "@jupyter-widgets/base",
          "model_module_version": "1.2.0",
          "model_name": "LayoutModel",
          "state": {
            "_model_module": "@jupyter-widgets/base",
            "_model_module_version": "1.2.0",
            "_model_name": "LayoutModel",
            "_view_count": null,
            "_view_module": "@jupyter-widgets/base",
            "_view_module_version": "1.2.0",
            "_view_name": "LayoutView",
            "align_content": null,
            "align_items": null,
            "align_self": null,
            "border": null,
            "bottom": null,
            "display": null,
            "flex": null,
            "flex_flow": null,
            "grid_area": null,
            "grid_auto_columns": null,
            "grid_auto_flow": null,
            "grid_auto_rows": null,
            "grid_column": null,
            "grid_gap": null,
            "grid_row": null,
            "grid_template_areas": null,
            "grid_template_columns": null,
            "grid_template_rows": null,
            "height": null,
            "justify_content": null,
            "justify_items": null,
            "left": null,
            "margin": null,
            "max_height": null,
            "max_width": null,
            "min_height": null,
            "min_width": null,
            "object_fit": null,
            "object_position": null,
            "order": null,
            "overflow": null,
            "overflow_x": null,
            "overflow_y": null,
            "padding": null,
            "right": null,
            "top": null,
            "visibility": null,
            "width": null
          }
        },
        "5bb3a3e73dda40dd8bf2b049aa3379b5": {
          "model_module": "@jupyter-widgets/controls",
          "model_module_version": "1.5.0",
          "model_name": "DescriptionStyleModel",
          "state": {
            "_model_module": "@jupyter-widgets/controls",
            "_model_module_version": "1.5.0",
            "_model_name": "DescriptionStyleModel",
            "_view_count": null,
            "_view_module": "@jupyter-widgets/base",
            "_view_module_version": "1.2.0",
            "_view_name": "StyleView",
            "description_width": ""
          }
        },
        "5e99ac0d6fe74f58b4702f9c5dd06ada": {
          "model_module": "@jupyter-widgets/base",
          "model_module_version": "1.2.0",
          "model_name": "LayoutModel",
          "state": {
            "_model_module": "@jupyter-widgets/base",
            "_model_module_version": "1.2.0",
            "_model_name": "LayoutModel",
            "_view_count": null,
            "_view_module": "@jupyter-widgets/base",
            "_view_module_version": "1.2.0",
            "_view_name": "LayoutView",
            "align_content": null,
            "align_items": null,
            "align_self": null,
            "border": null,
            "bottom": null,
            "display": null,
            "flex": null,
            "flex_flow": null,
            "grid_area": null,
            "grid_auto_columns": null,
            "grid_auto_flow": null,
            "grid_auto_rows": null,
            "grid_column": null,
            "grid_gap": null,
            "grid_row": null,
            "grid_template_areas": null,
            "grid_template_columns": null,
            "grid_template_rows": null,
            "height": null,
            "justify_content": null,
            "justify_items": null,
            "left": null,
            "margin": null,
            "max_height": null,
            "max_width": null,
            "min_height": null,
            "min_width": null,
            "object_fit": null,
            "object_position": null,
            "order": null,
            "overflow": null,
            "overflow_x": null,
            "overflow_y": null,
            "padding": null,
            "right": null,
            "top": null,
            "visibility": null,
            "width": null
          }
        },
        "646fc17c68854b97a8c8310cd8728a18": {
          "model_module": "@jupyter-widgets/controls",
          "model_module_version": "1.5.0",
          "model_name": "FloatProgressModel",
          "state": {
            "_dom_classes": [],
            "_model_module": "@jupyter-widgets/controls",
            "_model_module_version": "1.5.0",
            "_model_name": "FloatProgressModel",
            "_view_count": null,
            "_view_module": "@jupyter-widgets/controls",
            "_view_module_version": "1.5.0",
            "_view_name": "ProgressView",
            "bar_style": "success",
            "description": "",
            "description_tooltip": null,
            "layout": "IPY_MODEL_6f6741ef808d40969e16a24dab6ff9bb",
            "max": 1000,
            "min": 0,
            "orientation": "horizontal",
            "style": "IPY_MODEL_1a2e0c07b3524a8980ee6865f95ca4b2",
            "value": 1000
          }
        },
        "67861dcd7231433fb4c5cdd246a48501": {
          "model_module": "@jupyter-widgets/base",
          "model_module_version": "1.2.0",
          "model_name": "LayoutModel",
          "state": {
            "_model_module": "@jupyter-widgets/base",
            "_model_module_version": "1.2.0",
            "_model_name": "LayoutModel",
            "_view_count": null,
            "_view_module": "@jupyter-widgets/base",
            "_view_module_version": "1.2.0",
            "_view_name": "LayoutView",
            "align_content": null,
            "align_items": null,
            "align_self": null,
            "border": null,
            "bottom": null,
            "display": null,
            "flex": null,
            "flex_flow": null,
            "grid_area": null,
            "grid_auto_columns": null,
            "grid_auto_flow": null,
            "grid_auto_rows": null,
            "grid_column": null,
            "grid_gap": null,
            "grid_row": null,
            "grid_template_areas": null,
            "grid_template_columns": null,
            "grid_template_rows": null,
            "height": null,
            "justify_content": null,
            "justify_items": null,
            "left": null,
            "margin": null,
            "max_height": null,
            "max_width": null,
            "min_height": null,
            "min_width": null,
            "object_fit": null,
            "object_position": null,
            "order": null,
            "overflow": null,
            "overflow_x": null,
            "overflow_y": null,
            "padding": null,
            "right": null,
            "top": null,
            "visibility": null,
            "width": null
          }
        },
        "6b6243cac9cd4f849f032478ed520afc": {
          "model_module": "@jupyter-widgets/controls",
          "model_module_version": "1.5.0",
          "model_name": "DescriptionStyleModel",
          "state": {
            "_model_module": "@jupyter-widgets/controls",
            "_model_module_version": "1.5.0",
            "_model_name": "DescriptionStyleModel",
            "_view_count": null,
            "_view_module": "@jupyter-widgets/base",
            "_view_module_version": "1.2.0",
            "_view_name": "StyleView",
            "description_width": ""
          }
        },
        "6d92c04f8f5646b296555a5c49c6c5b8": {
          "model_module": "@jupyter-widgets/controls",
          "model_module_version": "1.5.0",
          "model_name": "ProgressStyleModel",
          "state": {
            "_model_module": "@jupyter-widgets/controls",
            "_model_module_version": "1.5.0",
            "_model_name": "ProgressStyleModel",
            "_view_count": null,
            "_view_module": "@jupyter-widgets/base",
            "_view_module_version": "1.2.0",
            "_view_name": "StyleView",
            "bar_color": null,
            "description_width": ""
          }
        },
        "6ed4bb6b818747a9be299944ef7f7e0d": {
          "model_module": "@jupyter-widgets/controls",
          "model_module_version": "1.5.0",
          "model_name": "HBoxModel",
          "state": {
            "_dom_classes": [],
            "_model_module": "@jupyter-widgets/controls",
            "_model_module_version": "1.5.0",
            "_model_name": "HBoxModel",
            "_view_count": null,
            "_view_module": "@jupyter-widgets/controls",
            "_view_module_version": "1.5.0",
            "_view_name": "HBoxView",
            "box_style": "",
            "children": [
              "IPY_MODEL_c908f89831624f8bb9bfbb4d4055292a",
              "IPY_MODEL_4d55aba0740b4550a93d255343672d6a",
              "IPY_MODEL_0efc0240e54c4890a85667e35008d1dd"
            ],
            "layout": "IPY_MODEL_cd2fb6c35abf48d98db9dab6cba9b570"
          }
        },
        "6f08bde82e2d40cab6be051217a84a19": {
          "model_module": "@jupyter-widgets/controls",
          "model_module_version": "1.5.0",
          "model_name": "DescriptionStyleModel",
          "state": {
            "_model_module": "@jupyter-widgets/controls",
            "_model_module_version": "1.5.0",
            "_model_name": "DescriptionStyleModel",
            "_view_count": null,
            "_view_module": "@jupyter-widgets/base",
            "_view_module_version": "1.2.0",
            "_view_name": "StyleView",
            "description_width": ""
          }
        },
        "6f31310952ba4e88ba96414287b37ccd": {
          "model_module": "@jupyter-widgets/base",
          "model_module_version": "1.2.0",
          "model_name": "LayoutModel",
          "state": {
            "_model_module": "@jupyter-widgets/base",
            "_model_module_version": "1.2.0",
            "_model_name": "LayoutModel",
            "_view_count": null,
            "_view_module": "@jupyter-widgets/base",
            "_view_module_version": "1.2.0",
            "_view_name": "LayoutView",
            "align_content": null,
            "align_items": null,
            "align_self": null,
            "border": null,
            "bottom": null,
            "display": null,
            "flex": null,
            "flex_flow": null,
            "grid_area": null,
            "grid_auto_columns": null,
            "grid_auto_flow": null,
            "grid_auto_rows": null,
            "grid_column": null,
            "grid_gap": null,
            "grid_row": null,
            "grid_template_areas": null,
            "grid_template_columns": null,
            "grid_template_rows": null,
            "height": null,
            "justify_content": null,
            "justify_items": null,
            "left": null,
            "margin": null,
            "max_height": null,
            "max_width": null,
            "min_height": null,
            "min_width": null,
            "object_fit": null,
            "object_position": null,
            "order": null,
            "overflow": null,
            "overflow_x": null,
            "overflow_y": null,
            "padding": null,
            "right": null,
            "top": null,
            "visibility": null,
            "width": null
          }
        },
        "6f6741ef808d40969e16a24dab6ff9bb": {
          "model_module": "@jupyter-widgets/base",
          "model_module_version": "1.2.0",
          "model_name": "LayoutModel",
          "state": {
            "_model_module": "@jupyter-widgets/base",
            "_model_module_version": "1.2.0",
            "_model_name": "LayoutModel",
            "_view_count": null,
            "_view_module": "@jupyter-widgets/base",
            "_view_module_version": "1.2.0",
            "_view_name": "LayoutView",
            "align_content": null,
            "align_items": null,
            "align_self": null,
            "border": null,
            "bottom": null,
            "display": null,
            "flex": null,
            "flex_flow": null,
            "grid_area": null,
            "grid_auto_columns": null,
            "grid_auto_flow": null,
            "grid_auto_rows": null,
            "grid_column": null,
            "grid_gap": null,
            "grid_row": null,
            "grid_template_areas": null,
            "grid_template_columns": null,
            "grid_template_rows": null,
            "height": null,
            "justify_content": null,
            "justify_items": null,
            "left": null,
            "margin": null,
            "max_height": null,
            "max_width": null,
            "min_height": null,
            "min_width": null,
            "object_fit": null,
            "object_position": null,
            "order": null,
            "overflow": null,
            "overflow_x": null,
            "overflow_y": null,
            "padding": null,
            "right": null,
            "top": null,
            "visibility": null,
            "width": null
          }
        },
        "71d4eed5203840628b2fbb4cbff35519": {
          "model_module": "@jupyter-widgets/controls",
          "model_module_version": "1.5.0",
          "model_name": "HTMLModel",
          "state": {
            "_dom_classes": [],
            "_model_module": "@jupyter-widgets/controls",
            "_model_module_version": "1.5.0",
            "_model_name": "HTMLModel",
            "_view_count": null,
            "_view_module": "@jupyter-widgets/controls",
            "_view_module_version": "1.5.0",
            "_view_name": "HTMLView",
            "description": "",
            "description_tooltip": null,
            "layout": "IPY_MODEL_e3dfddd3257544db985fc2080f2a5333",
            "placeholder": "​",
            "style": "IPY_MODEL_d0aeb3f4bfed4112b073589b55d9fbee",
            "value": "100%"
          }
        },
        "73f10e5678dc4ca6bb17eab38fad6206": {
          "model_module": "@jupyter-widgets/controls",
          "model_module_version": "1.5.0",
          "model_name": "FloatProgressModel",
          "state": {
            "_dom_classes": [],
            "_model_module": "@jupyter-widgets/controls",
            "_model_module_version": "1.5.0",
            "_model_name": "FloatProgressModel",
            "_view_count": null,
            "_view_module": "@jupyter-widgets/controls",
            "_view_module_version": "1.5.0",
            "_view_name": "ProgressView",
            "bar_style": "success",
            "description": "",
            "description_tooltip": null,
            "layout": "IPY_MODEL_baadb3fda9a345b1b18f42ccc33d041b",
            "max": 1000,
            "min": 0,
            "orientation": "horizontal",
            "style": "IPY_MODEL_86a491c906434c2b92791c6c9a22f5f8",
            "value": 1000
          }
        },
        "7a6f23ec62014edfbdec8d7dd0bbe15b": {
          "model_module": "@jupyter-widgets/controls",
          "model_module_version": "1.5.0",
          "model_name": "HTMLModel",
          "state": {
            "_dom_classes": [],
            "_model_module": "@jupyter-widgets/controls",
            "_model_module_version": "1.5.0",
            "_model_name": "HTMLModel",
            "_view_count": null,
            "_view_module": "@jupyter-widgets/controls",
            "_view_module_version": "1.5.0",
            "_view_name": "HTMLView",
            "description": "",
            "description_tooltip": null,
            "layout": "IPY_MODEL_cb574a7c3b4a4c3e8940cd7db6d94f67",
            "placeholder": "​",
            "style": "IPY_MODEL_5bb3a3e73dda40dd8bf2b049aa3379b5",
            "value": "100%"
          }
        },
        "7d8232424d0f4999a6dcb89bc728b190": {
          "model_module": "@jupyter-widgets/base",
          "model_module_version": "1.2.0",
          "model_name": "LayoutModel",
          "state": {
            "_model_module": "@jupyter-widgets/base",
            "_model_module_version": "1.2.0",
            "_model_name": "LayoutModel",
            "_view_count": null,
            "_view_module": "@jupyter-widgets/base",
            "_view_module_version": "1.2.0",
            "_view_name": "LayoutView",
            "align_content": null,
            "align_items": null,
            "align_self": null,
            "border": null,
            "bottom": null,
            "display": null,
            "flex": null,
            "flex_flow": null,
            "grid_area": null,
            "grid_auto_columns": null,
            "grid_auto_flow": null,
            "grid_auto_rows": null,
            "grid_column": null,
            "grid_gap": null,
            "grid_row": null,
            "grid_template_areas": null,
            "grid_template_columns": null,
            "grid_template_rows": null,
            "height": null,
            "justify_content": null,
            "justify_items": null,
            "left": null,
            "margin": null,
            "max_height": null,
            "max_width": null,
            "min_height": null,
            "min_width": null,
            "object_fit": null,
            "object_position": null,
            "order": null,
            "overflow": null,
            "overflow_x": null,
            "overflow_y": null,
            "padding": null,
            "right": null,
            "top": null,
            "visibility": null,
            "width": null
          }
        },
        "7e5c54eb48324f0aa5d79e769b776378": {
          "model_module": "@jupyter-widgets/base",
          "model_module_version": "1.2.0",
          "model_name": "LayoutModel",
          "state": {
            "_model_module": "@jupyter-widgets/base",
            "_model_module_version": "1.2.0",
            "_model_name": "LayoutModel",
            "_view_count": null,
            "_view_module": "@jupyter-widgets/base",
            "_view_module_version": "1.2.0",
            "_view_name": "LayoutView",
            "align_content": null,
            "align_items": null,
            "align_self": null,
            "border": null,
            "bottom": null,
            "display": null,
            "flex": null,
            "flex_flow": null,
            "grid_area": null,
            "grid_auto_columns": null,
            "grid_auto_flow": null,
            "grid_auto_rows": null,
            "grid_column": null,
            "grid_gap": null,
            "grid_row": null,
            "grid_template_areas": null,
            "grid_template_columns": null,
            "grid_template_rows": null,
            "height": null,
            "justify_content": null,
            "justify_items": null,
            "left": null,
            "margin": null,
            "max_height": null,
            "max_width": null,
            "min_height": null,
            "min_width": null,
            "object_fit": null,
            "object_position": null,
            "order": null,
            "overflow": null,
            "overflow_x": null,
            "overflow_y": null,
            "padding": null,
            "right": null,
            "top": null,
            "visibility": null,
            "width": null
          }
        },
        "868b4f060bde4cc0b3ba12bf61f6ea57": {
          "model_module": "@jupyter-widgets/base",
          "model_module_version": "1.2.0",
          "model_name": "LayoutModel",
          "state": {
            "_model_module": "@jupyter-widgets/base",
            "_model_module_version": "1.2.0",
            "_model_name": "LayoutModel",
            "_view_count": null,
            "_view_module": "@jupyter-widgets/base",
            "_view_module_version": "1.2.0",
            "_view_name": "LayoutView",
            "align_content": null,
            "align_items": null,
            "align_self": null,
            "border": null,
            "bottom": null,
            "display": null,
            "flex": null,
            "flex_flow": null,
            "grid_area": null,
            "grid_auto_columns": null,
            "grid_auto_flow": null,
            "grid_auto_rows": null,
            "grid_column": null,
            "grid_gap": null,
            "grid_row": null,
            "grid_template_areas": null,
            "grid_template_columns": null,
            "grid_template_rows": null,
            "height": null,
            "justify_content": null,
            "justify_items": null,
            "left": null,
            "margin": null,
            "max_height": null,
            "max_width": null,
            "min_height": null,
            "min_width": null,
            "object_fit": null,
            "object_position": null,
            "order": null,
            "overflow": null,
            "overflow_x": null,
            "overflow_y": null,
            "padding": null,
            "right": null,
            "top": null,
            "visibility": null,
            "width": null
          }
        },
        "86a491c906434c2b92791c6c9a22f5f8": {
          "model_module": "@jupyter-widgets/controls",
          "model_module_version": "1.5.0",
          "model_name": "ProgressStyleModel",
          "state": {
            "_model_module": "@jupyter-widgets/controls",
            "_model_module_version": "1.5.0",
            "_model_name": "ProgressStyleModel",
            "_view_count": null,
            "_view_module": "@jupyter-widgets/base",
            "_view_module_version": "1.2.0",
            "_view_name": "StyleView",
            "bar_color": null,
            "description_width": ""
          }
        },
        "88ee07cbeb3549268989ceca936513ed": {
          "model_module": "@jupyter-widgets/base",
          "model_module_version": "1.2.0",
          "model_name": "LayoutModel",
          "state": {
            "_model_module": "@jupyter-widgets/base",
            "_model_module_version": "1.2.0",
            "_model_name": "LayoutModel",
            "_view_count": null,
            "_view_module": "@jupyter-widgets/base",
            "_view_module_version": "1.2.0",
            "_view_name": "LayoutView",
            "align_content": null,
            "align_items": null,
            "align_self": null,
            "border": null,
            "bottom": null,
            "display": null,
            "flex": null,
            "flex_flow": null,
            "grid_area": null,
            "grid_auto_columns": null,
            "grid_auto_flow": null,
            "grid_auto_rows": null,
            "grid_column": null,
            "grid_gap": null,
            "grid_row": null,
            "grid_template_areas": null,
            "grid_template_columns": null,
            "grid_template_rows": null,
            "height": null,
            "justify_content": null,
            "justify_items": null,
            "left": null,
            "margin": null,
            "max_height": null,
            "max_width": null,
            "min_height": null,
            "min_width": null,
            "object_fit": null,
            "object_position": null,
            "order": null,
            "overflow": null,
            "overflow_x": null,
            "overflow_y": null,
            "padding": null,
            "right": null,
            "top": null,
            "visibility": null,
            "width": null
          }
        },
        "933f9e1b0d7c4032be45630141ef98fd": {
          "model_module": "@jupyter-widgets/controls",
          "model_module_version": "1.5.0",
          "model_name": "HTMLModel",
          "state": {
            "_dom_classes": [],
            "_model_module": "@jupyter-widgets/controls",
            "_model_module_version": "1.5.0",
            "_model_name": "HTMLModel",
            "_view_count": null,
            "_view_module": "@jupyter-widgets/controls",
            "_view_module_version": "1.5.0",
            "_view_name": "HTMLView",
            "description": "",
            "description_tooltip": null,
            "layout": "IPY_MODEL_54bd9b81965c4059ac4cfe8d7c70dced",
            "placeholder": "​",
            "style": "IPY_MODEL_1b3139d422bf4ab8a0541666a82b6cf1",
            "value": " 1000/1000 [00:00&lt;00:00, 2022.73it/s]"
          }
        },
        "94f0ed44743d47918a8a13155c9daabe": {
          "model_module": "@jupyter-widgets/base",
          "model_module_version": "1.2.0",
          "model_name": "LayoutModel",
          "state": {
            "_model_module": "@jupyter-widgets/base",
            "_model_module_version": "1.2.0",
            "_model_name": "LayoutModel",
            "_view_count": null,
            "_view_module": "@jupyter-widgets/base",
            "_view_module_version": "1.2.0",
            "_view_name": "LayoutView",
            "align_content": null,
            "align_items": null,
            "align_self": null,
            "border": null,
            "bottom": null,
            "display": null,
            "flex": null,
            "flex_flow": null,
            "grid_area": null,
            "grid_auto_columns": null,
            "grid_auto_flow": null,
            "grid_auto_rows": null,
            "grid_column": null,
            "grid_gap": null,
            "grid_row": null,
            "grid_template_areas": null,
            "grid_template_columns": null,
            "grid_template_rows": null,
            "height": null,
            "justify_content": null,
            "justify_items": null,
            "left": null,
            "margin": null,
            "max_height": null,
            "max_width": null,
            "min_height": null,
            "min_width": null,
            "object_fit": null,
            "object_position": null,
            "order": null,
            "overflow": null,
            "overflow_x": null,
            "overflow_y": null,
            "padding": null,
            "right": null,
            "top": null,
            "visibility": null,
            "width": null
          }
        },
        "9501f460fec64c888ff7131cbdd8539b": {
          "model_module": "@jupyter-widgets/controls",
          "model_module_version": "1.5.0",
          "model_name": "ProgressStyleModel",
          "state": {
            "_model_module": "@jupyter-widgets/controls",
            "_model_module_version": "1.5.0",
            "_model_name": "ProgressStyleModel",
            "_view_count": null,
            "_view_module": "@jupyter-widgets/base",
            "_view_module_version": "1.2.0",
            "_view_name": "StyleView",
            "bar_color": null,
            "description_width": ""
          }
        },
        "963bed8ddb254949b6fd41b735f42cc5": {
          "model_module": "@jupyter-widgets/controls",
          "model_module_version": "1.5.0",
          "model_name": "DescriptionStyleModel",
          "state": {
            "_model_module": "@jupyter-widgets/controls",
            "_model_module_version": "1.5.0",
            "_model_name": "DescriptionStyleModel",
            "_view_count": null,
            "_view_module": "@jupyter-widgets/base",
            "_view_module_version": "1.2.0",
            "_view_name": "StyleView",
            "description_width": ""
          }
        },
        "97267a8796b244338223188bacfb7f0f": {
          "model_module": "@jupyter-widgets/controls",
          "model_module_version": "1.5.0",
          "model_name": "DescriptionStyleModel",
          "state": {
            "_model_module": "@jupyter-widgets/controls",
            "_model_module_version": "1.5.0",
            "_model_name": "DescriptionStyleModel",
            "_view_count": null,
            "_view_module": "@jupyter-widgets/base",
            "_view_module_version": "1.2.0",
            "_view_name": "StyleView",
            "description_width": ""
          }
        },
        "98bee95528244664803fd09e9218b110": {
          "model_module": "@jupyter-widgets/controls",
          "model_module_version": "1.5.0",
          "model_name": "HTMLModel",
          "state": {
            "_dom_classes": [],
            "_model_module": "@jupyter-widgets/controls",
            "_model_module_version": "1.5.0",
            "_model_name": "HTMLModel",
            "_view_count": null,
            "_view_module": "@jupyter-widgets/controls",
            "_view_module_version": "1.5.0",
            "_view_name": "HTMLView",
            "description": "",
            "description_tooltip": null,
            "layout": "IPY_MODEL_5572d5630d234d2bbefe3a75e4a661c9",
            "placeholder": "​",
            "style": "IPY_MODEL_3336e58576c74dfbbb55e3fd62d9e869",
            "value": " 1000/1000 [00:00&lt;00:00, 1960.61it/s]"
          }
        },
        "99fb434c969a40209662af3ab50d292d": {
          "model_module": "@jupyter-widgets/controls",
          "model_module_version": "1.5.0",
          "model_name": "ProgressStyleModel",
          "state": {
            "_model_module": "@jupyter-widgets/controls",
            "_model_module_version": "1.5.0",
            "_model_name": "ProgressStyleModel",
            "_view_count": null,
            "_view_module": "@jupyter-widgets/base",
            "_view_module_version": "1.2.0",
            "_view_name": "StyleView",
            "bar_color": null,
            "description_width": ""
          }
        },
        "9b4ba43ba6ac4a60a1954fffe8ce9d7c": {
          "model_module": "@jupyter-widgets/controls",
          "model_module_version": "1.5.0",
          "model_name": "HBoxModel",
          "state": {
            "_dom_classes": [],
            "_model_module": "@jupyter-widgets/controls",
            "_model_module_version": "1.5.0",
            "_model_name": "HBoxModel",
            "_view_count": null,
            "_view_module": "@jupyter-widgets/controls",
            "_view_module_version": "1.5.0",
            "_view_name": "HBoxView",
            "box_style": "",
            "children": [
              "IPY_MODEL_d6e22cbd76ad4848b72a5ae5c6a41816",
              "IPY_MODEL_646fc17c68854b97a8c8310cd8728a18",
              "IPY_MODEL_02e533cdb8954f29b001624e798f1944"
            ],
            "layout": "IPY_MODEL_88ee07cbeb3549268989ceca936513ed"
          }
        },
        "9bae670cfb924c7b86f4ab8553c9e88d": {
          "model_module": "@jupyter-widgets/base",
          "model_module_version": "1.2.0",
          "model_name": "LayoutModel",
          "state": {
            "_model_module": "@jupyter-widgets/base",
            "_model_module_version": "1.2.0",
            "_model_name": "LayoutModel",
            "_view_count": null,
            "_view_module": "@jupyter-widgets/base",
            "_view_module_version": "1.2.0",
            "_view_name": "LayoutView",
            "align_content": null,
            "align_items": null,
            "align_self": null,
            "border": null,
            "bottom": null,
            "display": null,
            "flex": null,
            "flex_flow": null,
            "grid_area": null,
            "grid_auto_columns": null,
            "grid_auto_flow": null,
            "grid_auto_rows": null,
            "grid_column": null,
            "grid_gap": null,
            "grid_row": null,
            "grid_template_areas": null,
            "grid_template_columns": null,
            "grid_template_rows": null,
            "height": null,
            "justify_content": null,
            "justify_items": null,
            "left": null,
            "margin": null,
            "max_height": null,
            "max_width": null,
            "min_height": null,
            "min_width": null,
            "object_fit": null,
            "object_position": null,
            "order": null,
            "overflow": null,
            "overflow_x": null,
            "overflow_y": null,
            "padding": null,
            "right": null,
            "top": null,
            "visibility": null,
            "width": null
          }
        },
        "9c963085ab184c91bc4cafdf830266f1": {
          "model_module": "@jupyter-widgets/base",
          "model_module_version": "1.2.0",
          "model_name": "LayoutModel",
          "state": {
            "_model_module": "@jupyter-widgets/base",
            "_model_module_version": "1.2.0",
            "_model_name": "LayoutModel",
            "_view_count": null,
            "_view_module": "@jupyter-widgets/base",
            "_view_module_version": "1.2.0",
            "_view_name": "LayoutView",
            "align_content": null,
            "align_items": null,
            "align_self": null,
            "border": null,
            "bottom": null,
            "display": null,
            "flex": null,
            "flex_flow": null,
            "grid_area": null,
            "grid_auto_columns": null,
            "grid_auto_flow": null,
            "grid_auto_rows": null,
            "grid_column": null,
            "grid_gap": null,
            "grid_row": null,
            "grid_template_areas": null,
            "grid_template_columns": null,
            "grid_template_rows": null,
            "height": null,
            "justify_content": null,
            "justify_items": null,
            "left": null,
            "margin": null,
            "max_height": null,
            "max_width": null,
            "min_height": null,
            "min_width": null,
            "object_fit": null,
            "object_position": null,
            "order": null,
            "overflow": null,
            "overflow_x": null,
            "overflow_y": null,
            "padding": null,
            "right": null,
            "top": null,
            "visibility": null,
            "width": null
          }
        },
        "a36d0623cd14442f9f1f05eda387eab9": {
          "model_module": "@jupyter-widgets/controls",
          "model_module_version": "1.5.0",
          "model_name": "HTMLModel",
          "state": {
            "_dom_classes": [],
            "_model_module": "@jupyter-widgets/controls",
            "_model_module_version": "1.5.0",
            "_model_name": "HTMLModel",
            "_view_count": null,
            "_view_module": "@jupyter-widgets/controls",
            "_view_module_version": "1.5.0",
            "_view_name": "HTMLView",
            "description": "",
            "description_tooltip": null,
            "layout": "IPY_MODEL_6f31310952ba4e88ba96414287b37ccd",
            "placeholder": "​",
            "style": "IPY_MODEL_067f96836ac74e9c82913da3a3b88a6b",
            "value": " 1000/1000 [00:00&lt;00:00, 2212.64it/s]"
          }
        },
        "a6e5b8c476e84912ba3546b8e117068a": {
          "model_module": "@jupyter-widgets/controls",
          "model_module_version": "1.5.0",
          "model_name": "FloatProgressModel",
          "state": {
            "_dom_classes": [],
            "_model_module": "@jupyter-widgets/controls",
            "_model_module_version": "1.5.0",
            "_model_name": "FloatProgressModel",
            "_view_count": null,
            "_view_module": "@jupyter-widgets/controls",
            "_view_module_version": "1.5.0",
            "_view_name": "ProgressView",
            "bar_style": "success",
            "description": "",
            "description_tooltip": null,
            "layout": "IPY_MODEL_59bb326b81ba47be9020fb8ba4ca4fb0",
            "max": 1000,
            "min": 0,
            "orientation": "horizontal",
            "style": "IPY_MODEL_043374c423c4488d8787169092e37737",
            "value": 1000
          }
        },
        "a7599e89e8764caa9ab22934a361abe6": {
          "model_module": "@jupyter-widgets/controls",
          "model_module_version": "1.5.0",
          "model_name": "FloatProgressModel",
          "state": {
            "_dom_classes": [],
            "_model_module": "@jupyter-widgets/controls",
            "_model_module_version": "1.5.0",
            "_model_name": "FloatProgressModel",
            "_view_count": null,
            "_view_module": "@jupyter-widgets/controls",
            "_view_module_version": "1.5.0",
            "_view_name": "ProgressView",
            "bar_style": "success",
            "description": "",
            "description_tooltip": null,
            "layout": "IPY_MODEL_868b4f060bde4cc0b3ba12bf61f6ea57",
            "max": 1000,
            "min": 0,
            "orientation": "horizontal",
            "style": "IPY_MODEL_486f2667ee43482da7cb5cef8ed2d27d",
            "value": 1000
          }
        },
        "a7e8f0b8b166495c942e99ebb7a04979": {
          "model_module": "@jupyter-widgets/controls",
          "model_module_version": "1.5.0",
          "model_name": "HTMLModel",
          "state": {
            "_dom_classes": [],
            "_model_module": "@jupyter-widgets/controls",
            "_model_module_version": "1.5.0",
            "_model_name": "HTMLModel",
            "_view_count": null,
            "_view_module": "@jupyter-widgets/controls",
            "_view_module_version": "1.5.0",
            "_view_name": "HTMLView",
            "description": "",
            "description_tooltip": null,
            "layout": "IPY_MODEL_9bae670cfb924c7b86f4ab8553c9e88d",
            "placeholder": "​",
            "style": "IPY_MODEL_b4842e7946944926b3baad3b5ba808a0",
            "value": " 1000/1000 [00:47&lt;00:00, 18.24it/s]"
          }
        },
        "a894ec89b4604b2c843fdda09dfba5ba": {
          "model_module": "@jupyter-widgets/controls",
          "model_module_version": "1.5.0",
          "model_name": "HBoxModel",
          "state": {
            "_dom_classes": [],
            "_model_module": "@jupyter-widgets/controls",
            "_model_module_version": "1.5.0",
            "_model_name": "HBoxModel",
            "_view_count": null,
            "_view_module": "@jupyter-widgets/controls",
            "_view_module_version": "1.5.0",
            "_view_name": "HBoxView",
            "box_style": "",
            "children": [
              "IPY_MODEL_f50bdd761bbe4ef3b6572bc474f2a400",
              "IPY_MODEL_4b00ed8e7f7d4f4885ace4aeeefb5239",
              "IPY_MODEL_98bee95528244664803fd09e9218b110"
            ],
            "layout": "IPY_MODEL_2e71d7eae8e74e9d8029728aa829bbb5"
          }
        },
        "aa721d25769b435f8ad16712c1481a5e": {
          "model_module": "@jupyter-widgets/controls",
          "model_module_version": "1.5.0",
          "model_name": "HTMLModel",
          "state": {
            "_dom_classes": [],
            "_model_module": "@jupyter-widgets/controls",
            "_model_module_version": "1.5.0",
            "_model_name": "HTMLModel",
            "_view_count": null,
            "_view_module": "@jupyter-widgets/controls",
            "_view_module_version": "1.5.0",
            "_view_name": "HTMLView",
            "description": "",
            "description_tooltip": null,
            "layout": "IPY_MODEL_bb044c5ff9e2490a8be514d90ca58b48",
            "placeholder": "​",
            "style": "IPY_MODEL_b4366ade764849c89faeb60e498f9011",
            "value": "100%"
          }
        },
        "b050a98a748346a9953874eba1779595": {
          "model_module": "@jupyter-widgets/base",
          "model_module_version": "1.2.0",
          "model_name": "LayoutModel",
          "state": {
            "_model_module": "@jupyter-widgets/base",
            "_model_module_version": "1.2.0",
            "_model_name": "LayoutModel",
            "_view_count": null,
            "_view_module": "@jupyter-widgets/base",
            "_view_module_version": "1.2.0",
            "_view_name": "LayoutView",
            "align_content": null,
            "align_items": null,
            "align_self": null,
            "border": null,
            "bottom": null,
            "display": null,
            "flex": null,
            "flex_flow": null,
            "grid_area": null,
            "grid_auto_columns": null,
            "grid_auto_flow": null,
            "grid_auto_rows": null,
            "grid_column": null,
            "grid_gap": null,
            "grid_row": null,
            "grid_template_areas": null,
            "grid_template_columns": null,
            "grid_template_rows": null,
            "height": null,
            "justify_content": null,
            "justify_items": null,
            "left": null,
            "margin": null,
            "max_height": null,
            "max_width": null,
            "min_height": null,
            "min_width": null,
            "object_fit": null,
            "object_position": null,
            "order": null,
            "overflow": null,
            "overflow_x": null,
            "overflow_y": null,
            "padding": null,
            "right": null,
            "top": null,
            "visibility": null,
            "width": null
          }
        },
        "b22de9dfac084f1ab08809631b707dd3": {
          "model_module": "@jupyter-widgets/controls",
          "model_module_version": "1.5.0",
          "model_name": "HBoxModel",
          "state": {
            "_dom_classes": [],
            "_model_module": "@jupyter-widgets/controls",
            "_model_module_version": "1.5.0",
            "_model_name": "HBoxModel",
            "_view_count": null,
            "_view_module": "@jupyter-widgets/controls",
            "_view_module_version": "1.5.0",
            "_view_name": "HBoxView",
            "box_style": "",
            "children": [
              "IPY_MODEL_aa721d25769b435f8ad16712c1481a5e",
              "IPY_MODEL_a6e5b8c476e84912ba3546b8e117068a",
              "IPY_MODEL_a36d0623cd14442f9f1f05eda387eab9"
            ],
            "layout": "IPY_MODEL_c2b05bcaf2654ce0b007baad43945580"
          }
        },
        "b4366ade764849c89faeb60e498f9011": {
          "model_module": "@jupyter-widgets/controls",
          "model_module_version": "1.5.0",
          "model_name": "DescriptionStyleModel",
          "state": {
            "_model_module": "@jupyter-widgets/controls",
            "_model_module_version": "1.5.0",
            "_model_name": "DescriptionStyleModel",
            "_view_count": null,
            "_view_module": "@jupyter-widgets/base",
            "_view_module_version": "1.2.0",
            "_view_name": "StyleView",
            "description_width": ""
          }
        },
        "b4842e7946944926b3baad3b5ba808a0": {
          "model_module": "@jupyter-widgets/controls",
          "model_module_version": "1.5.0",
          "model_name": "DescriptionStyleModel",
          "state": {
            "_model_module": "@jupyter-widgets/controls",
            "_model_module_version": "1.5.0",
            "_model_name": "DescriptionStyleModel",
            "_view_count": null,
            "_view_module": "@jupyter-widgets/base",
            "_view_module_version": "1.2.0",
            "_view_name": "StyleView",
            "description_width": ""
          }
        },
        "baadb3fda9a345b1b18f42ccc33d041b": {
          "model_module": "@jupyter-widgets/base",
          "model_module_version": "1.2.0",
          "model_name": "LayoutModel",
          "state": {
            "_model_module": "@jupyter-widgets/base",
            "_model_module_version": "1.2.0",
            "_model_name": "LayoutModel",
            "_view_count": null,
            "_view_module": "@jupyter-widgets/base",
            "_view_module_version": "1.2.0",
            "_view_name": "LayoutView",
            "align_content": null,
            "align_items": null,
            "align_self": null,
            "border": null,
            "bottom": null,
            "display": null,
            "flex": null,
            "flex_flow": null,
            "grid_area": null,
            "grid_auto_columns": null,
            "grid_auto_flow": null,
            "grid_auto_rows": null,
            "grid_column": null,
            "grid_gap": null,
            "grid_row": null,
            "grid_template_areas": null,
            "grid_template_columns": null,
            "grid_template_rows": null,
            "height": null,
            "justify_content": null,
            "justify_items": null,
            "left": null,
            "margin": null,
            "max_height": null,
            "max_width": null,
            "min_height": null,
            "min_width": null,
            "object_fit": null,
            "object_position": null,
            "order": null,
            "overflow": null,
            "overflow_x": null,
            "overflow_y": null,
            "padding": null,
            "right": null,
            "top": null,
            "visibility": null,
            "width": null
          }
        },
        "bb044c5ff9e2490a8be514d90ca58b48": {
          "model_module": "@jupyter-widgets/base",
          "model_module_version": "1.2.0",
          "model_name": "LayoutModel",
          "state": {
            "_model_module": "@jupyter-widgets/base",
            "_model_module_version": "1.2.0",
            "_model_name": "LayoutModel",
            "_view_count": null,
            "_view_module": "@jupyter-widgets/base",
            "_view_module_version": "1.2.0",
            "_view_name": "LayoutView",
            "align_content": null,
            "align_items": null,
            "align_self": null,
            "border": null,
            "bottom": null,
            "display": null,
            "flex": null,
            "flex_flow": null,
            "grid_area": null,
            "grid_auto_columns": null,
            "grid_auto_flow": null,
            "grid_auto_rows": null,
            "grid_column": null,
            "grid_gap": null,
            "grid_row": null,
            "grid_template_areas": null,
            "grid_template_columns": null,
            "grid_template_rows": null,
            "height": null,
            "justify_content": null,
            "justify_items": null,
            "left": null,
            "margin": null,
            "max_height": null,
            "max_width": null,
            "min_height": null,
            "min_width": null,
            "object_fit": null,
            "object_position": null,
            "order": null,
            "overflow": null,
            "overflow_x": null,
            "overflow_y": null,
            "padding": null,
            "right": null,
            "top": null,
            "visibility": null,
            "width": null
          }
        },
        "bee123ee1e0e462db663b19c3444d46f": {
          "model_module": "@jupyter-widgets/base",
          "model_module_version": "1.2.0",
          "model_name": "LayoutModel",
          "state": {
            "_model_module": "@jupyter-widgets/base",
            "_model_module_version": "1.2.0",
            "_model_name": "LayoutModel",
            "_view_count": null,
            "_view_module": "@jupyter-widgets/base",
            "_view_module_version": "1.2.0",
            "_view_name": "LayoutView",
            "align_content": null,
            "align_items": null,
            "align_self": null,
            "border": null,
            "bottom": null,
            "display": null,
            "flex": null,
            "flex_flow": null,
            "grid_area": null,
            "grid_auto_columns": null,
            "grid_auto_flow": null,
            "grid_auto_rows": null,
            "grid_column": null,
            "grid_gap": null,
            "grid_row": null,
            "grid_template_areas": null,
            "grid_template_columns": null,
            "grid_template_rows": null,
            "height": null,
            "justify_content": null,
            "justify_items": null,
            "left": null,
            "margin": null,
            "max_height": null,
            "max_width": null,
            "min_height": null,
            "min_width": null,
            "object_fit": null,
            "object_position": null,
            "order": null,
            "overflow": null,
            "overflow_x": null,
            "overflow_y": null,
            "padding": null,
            "right": null,
            "top": null,
            "visibility": null,
            "width": null
          }
        },
        "c1e357ecddd44e75b5ee7ee4d6d146a8": {
          "model_module": "@jupyter-widgets/controls",
          "model_module_version": "1.5.0",
          "model_name": "DescriptionStyleModel",
          "state": {
            "_model_module": "@jupyter-widgets/controls",
            "_model_module_version": "1.5.0",
            "_model_name": "DescriptionStyleModel",
            "_view_count": null,
            "_view_module": "@jupyter-widgets/base",
            "_view_module_version": "1.2.0",
            "_view_name": "StyleView",
            "description_width": ""
          }
        },
        "c2b05bcaf2654ce0b007baad43945580": {
          "model_module": "@jupyter-widgets/base",
          "model_module_version": "1.2.0",
          "model_name": "LayoutModel",
          "state": {
            "_model_module": "@jupyter-widgets/base",
            "_model_module_version": "1.2.0",
            "_model_name": "LayoutModel",
            "_view_count": null,
            "_view_module": "@jupyter-widgets/base",
            "_view_module_version": "1.2.0",
            "_view_name": "LayoutView",
            "align_content": null,
            "align_items": null,
            "align_self": null,
            "border": null,
            "bottom": null,
            "display": null,
            "flex": null,
            "flex_flow": null,
            "grid_area": null,
            "grid_auto_columns": null,
            "grid_auto_flow": null,
            "grid_auto_rows": null,
            "grid_column": null,
            "grid_gap": null,
            "grid_row": null,
            "grid_template_areas": null,
            "grid_template_columns": null,
            "grid_template_rows": null,
            "height": null,
            "justify_content": null,
            "justify_items": null,
            "left": null,
            "margin": null,
            "max_height": null,
            "max_width": null,
            "min_height": null,
            "min_width": null,
            "object_fit": null,
            "object_position": null,
            "order": null,
            "overflow": null,
            "overflow_x": null,
            "overflow_y": null,
            "padding": null,
            "right": null,
            "top": null,
            "visibility": null,
            "width": null
          }
        },
        "c4b7e6b3ab07498d807bc02a2a9511e9": {
          "model_module": "@jupyter-widgets/controls",
          "model_module_version": "1.5.0",
          "model_name": "HTMLModel",
          "state": {
            "_dom_classes": [],
            "_model_module": "@jupyter-widgets/controls",
            "_model_module_version": "1.5.0",
            "_model_name": "HTMLModel",
            "_view_count": null,
            "_view_module": "@jupyter-widgets/controls",
            "_view_module_version": "1.5.0",
            "_view_name": "HTMLView",
            "description": "",
            "description_tooltip": null,
            "layout": "IPY_MODEL_d97af44cf5304e549622919eacbc6d0f",
            "placeholder": "​",
            "style": "IPY_MODEL_3f221d44d16741d28afa712292ce981b",
            "value": "100%"
          }
        },
        "c5cf1ab5004043ccbaf8d6302e50c606": {
          "model_module": "@jupyter-widgets/controls",
          "model_module_version": "1.5.0",
          "model_name": "DescriptionStyleModel",
          "state": {
            "_model_module": "@jupyter-widgets/controls",
            "_model_module_version": "1.5.0",
            "_model_name": "DescriptionStyleModel",
            "_view_count": null,
            "_view_module": "@jupyter-widgets/base",
            "_view_module_version": "1.2.0",
            "_view_name": "StyleView",
            "description_width": ""
          }
        },
        "c815f63635f948a2a019e7be5598b787": {
          "model_module": "@jupyter-widgets/controls",
          "model_module_version": "1.5.0",
          "model_name": "HBoxModel",
          "state": {
            "_dom_classes": [],
            "_model_module": "@jupyter-widgets/controls",
            "_model_module_version": "1.5.0",
            "_model_name": "HBoxModel",
            "_view_count": null,
            "_view_module": "@jupyter-widgets/controls",
            "_view_module_version": "1.5.0",
            "_view_name": "HBoxView",
            "box_style": "",
            "children": [
              "IPY_MODEL_71d4eed5203840628b2fbb4cbff35519",
              "IPY_MODEL_73f10e5678dc4ca6bb17eab38fad6206",
              "IPY_MODEL_933f9e1b0d7c4032be45630141ef98fd"
            ],
            "layout": "IPY_MODEL_1c3b91a8081e48888de5cee7e2a5ff0b"
          }
        },
        "c818d5a41776407ca26e23854f724e6e": {
          "model_module": "@jupyter-widgets/controls",
          "model_module_version": "1.5.0",
          "model_name": "FloatProgressModel",
          "state": {
            "_dom_classes": [],
            "_model_module": "@jupyter-widgets/controls",
            "_model_module_version": "1.5.0",
            "_model_name": "FloatProgressModel",
            "_view_count": null,
            "_view_module": "@jupyter-widgets/controls",
            "_view_module_version": "1.5.0",
            "_view_name": "ProgressView",
            "bar_style": "success",
            "description": "",
            "description_tooltip": null,
            "layout": "IPY_MODEL_023f72fc3d4b4566a5a17e2171c55fc3",
            "max": 1000,
            "min": 0,
            "orientation": "horizontal",
            "style": "IPY_MODEL_07562b445f034af7a6fd7c9f060b758a",
            "value": 1000
          }
        },
        "c908f89831624f8bb9bfbb4d4055292a": {
          "model_module": "@jupyter-widgets/controls",
          "model_module_version": "1.5.0",
          "model_name": "HTMLModel",
          "state": {
            "_dom_classes": [],
            "_model_module": "@jupyter-widgets/controls",
            "_model_module_version": "1.5.0",
            "_model_name": "HTMLModel",
            "_view_count": null,
            "_view_module": "@jupyter-widgets/controls",
            "_view_module_version": "1.5.0",
            "_view_name": "HTMLView",
            "description": "",
            "description_tooltip": null,
            "layout": "IPY_MODEL_ee1c4c685e5a4915b5f320bb2c226c1c",
            "placeholder": "​",
            "style": "IPY_MODEL_014fd6fdd60e4830a5aba636d89aee15",
            "value": "100%"
          }
        },
        "cb574a7c3b4a4c3e8940cd7db6d94f67": {
          "model_module": "@jupyter-widgets/base",
          "model_module_version": "1.2.0",
          "model_name": "LayoutModel",
          "state": {
            "_model_module": "@jupyter-widgets/base",
            "_model_module_version": "1.2.0",
            "_model_name": "LayoutModel",
            "_view_count": null,
            "_view_module": "@jupyter-widgets/base",
            "_view_module_version": "1.2.0",
            "_view_name": "LayoutView",
            "align_content": null,
            "align_items": null,
            "align_self": null,
            "border": null,
            "bottom": null,
            "display": null,
            "flex": null,
            "flex_flow": null,
            "grid_area": null,
            "grid_auto_columns": null,
            "grid_auto_flow": null,
            "grid_auto_rows": null,
            "grid_column": null,
            "grid_gap": null,
            "grid_row": null,
            "grid_template_areas": null,
            "grid_template_columns": null,
            "grid_template_rows": null,
            "height": null,
            "justify_content": null,
            "justify_items": null,
            "left": null,
            "margin": null,
            "max_height": null,
            "max_width": null,
            "min_height": null,
            "min_width": null,
            "object_fit": null,
            "object_position": null,
            "order": null,
            "overflow": null,
            "overflow_x": null,
            "overflow_y": null,
            "padding": null,
            "right": null,
            "top": null,
            "visibility": null,
            "width": null
          }
        },
        "cd2fb6c35abf48d98db9dab6cba9b570": {
          "model_module": "@jupyter-widgets/base",
          "model_module_version": "1.2.0",
          "model_name": "LayoutModel",
          "state": {
            "_model_module": "@jupyter-widgets/base",
            "_model_module_version": "1.2.0",
            "_model_name": "LayoutModel",
            "_view_count": null,
            "_view_module": "@jupyter-widgets/base",
            "_view_module_version": "1.2.0",
            "_view_name": "LayoutView",
            "align_content": null,
            "align_items": null,
            "align_self": null,
            "border": null,
            "bottom": null,
            "display": null,
            "flex": null,
            "flex_flow": null,
            "grid_area": null,
            "grid_auto_columns": null,
            "grid_auto_flow": null,
            "grid_auto_rows": null,
            "grid_column": null,
            "grid_gap": null,
            "grid_row": null,
            "grid_template_areas": null,
            "grid_template_columns": null,
            "grid_template_rows": null,
            "height": null,
            "justify_content": null,
            "justify_items": null,
            "left": null,
            "margin": null,
            "max_height": null,
            "max_width": null,
            "min_height": null,
            "min_width": null,
            "object_fit": null,
            "object_position": null,
            "order": null,
            "overflow": null,
            "overflow_x": null,
            "overflow_y": null,
            "padding": null,
            "right": null,
            "top": null,
            "visibility": null,
            "width": null
          }
        },
        "cd4013e62dad41a094d7486706161f62": {
          "model_module": "@jupyter-widgets/controls",
          "model_module_version": "1.5.0",
          "model_name": "HTMLModel",
          "state": {
            "_dom_classes": [],
            "_model_module": "@jupyter-widgets/controls",
            "_model_module_version": "1.5.0",
            "_model_name": "HTMLModel",
            "_view_count": null,
            "_view_module": "@jupyter-widgets/controls",
            "_view_module_version": "1.5.0",
            "_view_name": "HTMLView",
            "description": "",
            "description_tooltip": null,
            "layout": "IPY_MODEL_5e99ac0d6fe74f58b4702f9c5dd06ada",
            "placeholder": "​",
            "style": "IPY_MODEL_119fbb97810b4d928df4a3a45d9b4b63",
            "value": " 1000/1000 [00:00&lt;00:00, 2506.48it/s]"
          }
        },
        "d0aeb3f4bfed4112b073589b55d9fbee": {
          "model_module": "@jupyter-widgets/controls",
          "model_module_version": "1.5.0",
          "model_name": "DescriptionStyleModel",
          "state": {
            "_model_module": "@jupyter-widgets/controls",
            "_model_module_version": "1.5.0",
            "_model_name": "DescriptionStyleModel",
            "_view_count": null,
            "_view_module": "@jupyter-widgets/base",
            "_view_module_version": "1.2.0",
            "_view_name": "StyleView",
            "description_width": ""
          }
        },
        "d25458ca2a8048d5ac2564f69268f15a": {
          "model_module": "@jupyter-widgets/base",
          "model_module_version": "1.2.0",
          "model_name": "LayoutModel",
          "state": {
            "_model_module": "@jupyter-widgets/base",
            "_model_module_version": "1.2.0",
            "_model_name": "LayoutModel",
            "_view_count": null,
            "_view_module": "@jupyter-widgets/base",
            "_view_module_version": "1.2.0",
            "_view_name": "LayoutView",
            "align_content": null,
            "align_items": null,
            "align_self": null,
            "border": null,
            "bottom": null,
            "display": null,
            "flex": null,
            "flex_flow": null,
            "grid_area": null,
            "grid_auto_columns": null,
            "grid_auto_flow": null,
            "grid_auto_rows": null,
            "grid_column": null,
            "grid_gap": null,
            "grid_row": null,
            "grid_template_areas": null,
            "grid_template_columns": null,
            "grid_template_rows": null,
            "height": null,
            "justify_content": null,
            "justify_items": null,
            "left": null,
            "margin": null,
            "max_height": null,
            "max_width": null,
            "min_height": null,
            "min_width": null,
            "object_fit": null,
            "object_position": null,
            "order": null,
            "overflow": null,
            "overflow_x": null,
            "overflow_y": null,
            "padding": null,
            "right": null,
            "top": null,
            "visibility": null,
            "width": null
          }
        },
        "d256f1b611ca4594a5743fd3f4d2594b": {
          "model_module": "@jupyter-widgets/controls",
          "model_module_version": "1.5.0",
          "model_name": "DescriptionStyleModel",
          "state": {
            "_model_module": "@jupyter-widgets/controls",
            "_model_module_version": "1.5.0",
            "_model_name": "DescriptionStyleModel",
            "_view_count": null,
            "_view_module": "@jupyter-widgets/base",
            "_view_module_version": "1.2.0",
            "_view_name": "StyleView",
            "description_width": ""
          }
        },
        "d6e22cbd76ad4848b72a5ae5c6a41816": {
          "model_module": "@jupyter-widgets/controls",
          "model_module_version": "1.5.0",
          "model_name": "HTMLModel",
          "state": {
            "_dom_classes": [],
            "_model_module": "@jupyter-widgets/controls",
            "_model_module_version": "1.5.0",
            "_model_name": "HTMLModel",
            "_view_count": null,
            "_view_module": "@jupyter-widgets/controls",
            "_view_module_version": "1.5.0",
            "_view_name": "HTMLView",
            "description": "",
            "description_tooltip": null,
            "layout": "IPY_MODEL_e94fc3ce2596432b91657c2d65421de2",
            "placeholder": "​",
            "style": "IPY_MODEL_6f08bde82e2d40cab6be051217a84a19",
            "value": "100%"
          }
        },
        "d97af44cf5304e549622919eacbc6d0f": {
          "model_module": "@jupyter-widgets/base",
          "model_module_version": "1.2.0",
          "model_name": "LayoutModel",
          "state": {
            "_model_module": "@jupyter-widgets/base",
            "_model_module_version": "1.2.0",
            "_model_name": "LayoutModel",
            "_view_count": null,
            "_view_module": "@jupyter-widgets/base",
            "_view_module_version": "1.2.0",
            "_view_name": "LayoutView",
            "align_content": null,
            "align_items": null,
            "align_self": null,
            "border": null,
            "bottom": null,
            "display": null,
            "flex": null,
            "flex_flow": null,
            "grid_area": null,
            "grid_auto_columns": null,
            "grid_auto_flow": null,
            "grid_auto_rows": null,
            "grid_column": null,
            "grid_gap": null,
            "grid_row": null,
            "grid_template_areas": null,
            "grid_template_columns": null,
            "grid_template_rows": null,
            "height": null,
            "justify_content": null,
            "justify_items": null,
            "left": null,
            "margin": null,
            "max_height": null,
            "max_width": null,
            "min_height": null,
            "min_width": null,
            "object_fit": null,
            "object_position": null,
            "order": null,
            "overflow": null,
            "overflow_x": null,
            "overflow_y": null,
            "padding": null,
            "right": null,
            "top": null,
            "visibility": null,
            "width": null
          }
        },
        "da2ffd5116ba4be38778ef200b57984a": {
          "model_module": "@jupyter-widgets/base",
          "model_module_version": "1.2.0",
          "model_name": "LayoutModel",
          "state": {
            "_model_module": "@jupyter-widgets/base",
            "_model_module_version": "1.2.0",
            "_model_name": "LayoutModel",
            "_view_count": null,
            "_view_module": "@jupyter-widgets/base",
            "_view_module_version": "1.2.0",
            "_view_name": "LayoutView",
            "align_content": null,
            "align_items": null,
            "align_self": null,
            "border": null,
            "bottom": null,
            "display": null,
            "flex": null,
            "flex_flow": null,
            "grid_area": null,
            "grid_auto_columns": null,
            "grid_auto_flow": null,
            "grid_auto_rows": null,
            "grid_column": null,
            "grid_gap": null,
            "grid_row": null,
            "grid_template_areas": null,
            "grid_template_columns": null,
            "grid_template_rows": null,
            "height": null,
            "justify_content": null,
            "justify_items": null,
            "left": null,
            "margin": null,
            "max_height": null,
            "max_width": null,
            "min_height": null,
            "min_width": null,
            "object_fit": null,
            "object_position": null,
            "order": null,
            "overflow": null,
            "overflow_x": null,
            "overflow_y": null,
            "padding": null,
            "right": null,
            "top": null,
            "visibility": null,
            "width": null
          }
        },
        "dd46da81c141446eab091f3f5ea8273e": {
          "model_module": "@jupyter-widgets/controls",
          "model_module_version": "1.5.0",
          "model_name": "HTMLModel",
          "state": {
            "_dom_classes": [],
            "_model_module": "@jupyter-widgets/controls",
            "_model_module_version": "1.5.0",
            "_model_name": "HTMLModel",
            "_view_count": null,
            "_view_module": "@jupyter-widgets/controls",
            "_view_module_version": "1.5.0",
            "_view_name": "HTMLView",
            "description": "",
            "description_tooltip": null,
            "layout": "IPY_MODEL_3344547053a74088807d1d66430d0c95",
            "placeholder": "​",
            "style": "IPY_MODEL_d256f1b611ca4594a5743fd3f4d2594b",
            "value": "100%"
          }
        },
        "df9a25a4a942495683aa8ae5ea61a3c0": {
          "model_module": "@jupyter-widgets/base",
          "model_module_version": "1.2.0",
          "model_name": "LayoutModel",
          "state": {
            "_model_module": "@jupyter-widgets/base",
            "_model_module_version": "1.2.0",
            "_model_name": "LayoutModel",
            "_view_count": null,
            "_view_module": "@jupyter-widgets/base",
            "_view_module_version": "1.2.0",
            "_view_name": "LayoutView",
            "align_content": null,
            "align_items": null,
            "align_self": null,
            "border": null,
            "bottom": null,
            "display": null,
            "flex": null,
            "flex_flow": null,
            "grid_area": null,
            "grid_auto_columns": null,
            "grid_auto_flow": null,
            "grid_auto_rows": null,
            "grid_column": null,
            "grid_gap": null,
            "grid_row": null,
            "grid_template_areas": null,
            "grid_template_columns": null,
            "grid_template_rows": null,
            "height": null,
            "justify_content": null,
            "justify_items": null,
            "left": null,
            "margin": null,
            "max_height": null,
            "max_width": null,
            "min_height": null,
            "min_width": null,
            "object_fit": null,
            "object_position": null,
            "order": null,
            "overflow": null,
            "overflow_x": null,
            "overflow_y": null,
            "padding": null,
            "right": null,
            "top": null,
            "visibility": null,
            "width": null
          }
        },
        "e3dfddd3257544db985fc2080f2a5333": {
          "model_module": "@jupyter-widgets/base",
          "model_module_version": "1.2.0",
          "model_name": "LayoutModel",
          "state": {
            "_model_module": "@jupyter-widgets/base",
            "_model_module_version": "1.2.0",
            "_model_name": "LayoutModel",
            "_view_count": null,
            "_view_module": "@jupyter-widgets/base",
            "_view_module_version": "1.2.0",
            "_view_name": "LayoutView",
            "align_content": null,
            "align_items": null,
            "align_self": null,
            "border": null,
            "bottom": null,
            "display": null,
            "flex": null,
            "flex_flow": null,
            "grid_area": null,
            "grid_auto_columns": null,
            "grid_auto_flow": null,
            "grid_auto_rows": null,
            "grid_column": null,
            "grid_gap": null,
            "grid_row": null,
            "grid_template_areas": null,
            "grid_template_columns": null,
            "grid_template_rows": null,
            "height": null,
            "justify_content": null,
            "justify_items": null,
            "left": null,
            "margin": null,
            "max_height": null,
            "max_width": null,
            "min_height": null,
            "min_width": null,
            "object_fit": null,
            "object_position": null,
            "order": null,
            "overflow": null,
            "overflow_x": null,
            "overflow_y": null,
            "padding": null,
            "right": null,
            "top": null,
            "visibility": null,
            "width": null
          }
        },
        "e422cc6dfdb9454d967bf6f47f592b11": {
          "model_module": "@jupyter-widgets/controls",
          "model_module_version": "1.5.0",
          "model_name": "HBoxModel",
          "state": {
            "_dom_classes": [],
            "_model_module": "@jupyter-widgets/controls",
            "_model_module_version": "1.5.0",
            "_model_name": "HBoxModel",
            "_view_count": null,
            "_view_module": "@jupyter-widgets/controls",
            "_view_module_version": "1.5.0",
            "_view_name": "HBoxView",
            "box_style": "",
            "children": [
              "IPY_MODEL_7a6f23ec62014edfbdec8d7dd0bbe15b",
              "IPY_MODEL_108801d6c2f043aa8590ccce4f5eaab0",
              "IPY_MODEL_ecb51a78f3e94d7aa23726e5643484b9"
            ],
            "layout": "IPY_MODEL_0e8f13e0df2f4c9f8fcbbb975726382e"
          }
        },
        "e94fc3ce2596432b91657c2d65421de2": {
          "model_module": "@jupyter-widgets/base",
          "model_module_version": "1.2.0",
          "model_name": "LayoutModel",
          "state": {
            "_model_module": "@jupyter-widgets/base",
            "_model_module_version": "1.2.0",
            "_model_name": "LayoutModel",
            "_view_count": null,
            "_view_module": "@jupyter-widgets/base",
            "_view_module_version": "1.2.0",
            "_view_name": "LayoutView",
            "align_content": null,
            "align_items": null,
            "align_self": null,
            "border": null,
            "bottom": null,
            "display": null,
            "flex": null,
            "flex_flow": null,
            "grid_area": null,
            "grid_auto_columns": null,
            "grid_auto_flow": null,
            "grid_auto_rows": null,
            "grid_column": null,
            "grid_gap": null,
            "grid_row": null,
            "grid_template_areas": null,
            "grid_template_columns": null,
            "grid_template_rows": null,
            "height": null,
            "justify_content": null,
            "justify_items": null,
            "left": null,
            "margin": null,
            "max_height": null,
            "max_width": null,
            "min_height": null,
            "min_width": null,
            "object_fit": null,
            "object_position": null,
            "order": null,
            "overflow": null,
            "overflow_x": null,
            "overflow_y": null,
            "padding": null,
            "right": null,
            "top": null,
            "visibility": null,
            "width": null
          }
        },
        "eca2ddd5acad4044a2c5e180e0ffe910": {
          "model_module": "@jupyter-widgets/controls",
          "model_module_version": "1.5.0",
          "model_name": "FloatProgressModel",
          "state": {
            "_dom_classes": [],
            "_model_module": "@jupyter-widgets/controls",
            "_model_module_version": "1.5.0",
            "_model_name": "FloatProgressModel",
            "_view_count": null,
            "_view_module": "@jupyter-widgets/controls",
            "_view_module_version": "1.5.0",
            "_view_name": "ProgressView",
            "bar_style": "success",
            "description": "",
            "description_tooltip": null,
            "layout": "IPY_MODEL_29b0e1c8b9b94260a2b8629a4ab8955a",
            "max": 1000,
            "min": 0,
            "orientation": "horizontal",
            "style": "IPY_MODEL_55dbb127941243e4951f0723d1f0c3e3",
            "value": 1000
          }
        },
        "ecb51a78f3e94d7aa23726e5643484b9": {
          "model_module": "@jupyter-widgets/controls",
          "model_module_version": "1.5.0",
          "model_name": "HTMLModel",
          "state": {
            "_dom_classes": [],
            "_model_module": "@jupyter-widgets/controls",
            "_model_module_version": "1.5.0",
            "_model_name": "HTMLModel",
            "_view_count": null,
            "_view_module": "@jupyter-widgets/controls",
            "_view_module_version": "1.5.0",
            "_view_name": "HTMLView",
            "description": "",
            "description_tooltip": null,
            "layout": "IPY_MODEL_df9a25a4a942495683aa8ae5ea61a3c0",
            "placeholder": "​",
            "style": "IPY_MODEL_97267a8796b244338223188bacfb7f0f",
            "value": " 1000/1000 [00:00&lt;00:00, 2216.61it/s]"
          }
        },
        "edb2bc2c80574bd8b8864e981ab845cc": {
          "model_module": "@jupyter-widgets/controls",
          "model_module_version": "1.5.0",
          "model_name": "HBoxModel",
          "state": {
            "_dom_classes": [],
            "_model_module": "@jupyter-widgets/controls",
            "_model_module_version": "1.5.0",
            "_model_name": "HBoxModel",
            "_view_count": null,
            "_view_module": "@jupyter-widgets/controls",
            "_view_module_version": "1.5.0",
            "_view_name": "HBoxView",
            "box_style": "",
            "children": [
              "IPY_MODEL_502476d60fc04aec813f6e1beed18e8b",
              "IPY_MODEL_eca2ddd5acad4044a2c5e180e0ffe910",
              "IPY_MODEL_32af8efba7ff467c823be765e22ece81"
            ],
            "layout": "IPY_MODEL_67861dcd7231433fb4c5cdd246a48501"
          }
        },
        "ee1c4c685e5a4915b5f320bb2c226c1c": {
          "model_module": "@jupyter-widgets/base",
          "model_module_version": "1.2.0",
          "model_name": "LayoutModel",
          "state": {
            "_model_module": "@jupyter-widgets/base",
            "_model_module_version": "1.2.0",
            "_model_name": "LayoutModel",
            "_view_count": null,
            "_view_module": "@jupyter-widgets/base",
            "_view_module_version": "1.2.0",
            "_view_name": "LayoutView",
            "align_content": null,
            "align_items": null,
            "align_self": null,
            "border": null,
            "bottom": null,
            "display": null,
            "flex": null,
            "flex_flow": null,
            "grid_area": null,
            "grid_auto_columns": null,
            "grid_auto_flow": null,
            "grid_auto_rows": null,
            "grid_column": null,
            "grid_gap": null,
            "grid_row": null,
            "grid_template_areas": null,
            "grid_template_columns": null,
            "grid_template_rows": null,
            "height": null,
            "justify_content": null,
            "justify_items": null,
            "left": null,
            "margin": null,
            "max_height": null,
            "max_width": null,
            "min_height": null,
            "min_width": null,
            "object_fit": null,
            "object_position": null,
            "order": null,
            "overflow": null,
            "overflow_x": null,
            "overflow_y": null,
            "padding": null,
            "right": null,
            "top": null,
            "visibility": null,
            "width": null
          }
        },
        "f50bdd761bbe4ef3b6572bc474f2a400": {
          "model_module": "@jupyter-widgets/controls",
          "model_module_version": "1.5.0",
          "model_name": "HTMLModel",
          "state": {
            "_dom_classes": [],
            "_model_module": "@jupyter-widgets/controls",
            "_model_module_version": "1.5.0",
            "_model_name": "HTMLModel",
            "_view_count": null,
            "_view_module": "@jupyter-widgets/controls",
            "_view_module_version": "1.5.0",
            "_view_name": "HTMLView",
            "description": "",
            "description_tooltip": null,
            "layout": "IPY_MODEL_d25458ca2a8048d5ac2564f69268f15a",
            "placeholder": "​",
            "style": "IPY_MODEL_20dd714db2b7454b95e3f6f26713718a",
            "value": "100%"
          }
        },
        "ff7d6f0cfbfc4d4dbd900d86ddd5cfb3": {
          "model_module": "@jupyter-widgets/base",
          "model_module_version": "1.2.0",
          "model_name": "LayoutModel",
          "state": {
            "_model_module": "@jupyter-widgets/base",
            "_model_module_version": "1.2.0",
            "_model_name": "LayoutModel",
            "_view_count": null,
            "_view_module": "@jupyter-widgets/base",
            "_view_module_version": "1.2.0",
            "_view_name": "LayoutView",
            "align_content": null,
            "align_items": null,
            "align_self": null,
            "border": null,
            "bottom": null,
            "display": null,
            "flex": null,
            "flex_flow": null,
            "grid_area": null,
            "grid_auto_columns": null,
            "grid_auto_flow": null,
            "grid_auto_rows": null,
            "grid_column": null,
            "grid_gap": null,
            "grid_row": null,
            "grid_template_areas": null,
            "grid_template_columns": null,
            "grid_template_rows": null,
            "height": null,
            "justify_content": null,
            "justify_items": null,
            "left": null,
            "margin": null,
            "max_height": null,
            "max_width": null,
            "min_height": null,
            "min_width": null,
            "object_fit": null,
            "object_position": null,
            "order": null,
            "overflow": null,
            "overflow_x": null,
            "overflow_y": null,
            "padding": null,
            "right": null,
            "top": null,
            "visibility": null,
            "width": null
          }
        }
      }
    }
  },
  "nbformat": 4,
  "nbformat_minor": 0
}
